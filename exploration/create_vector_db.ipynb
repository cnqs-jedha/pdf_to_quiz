{
 "cells": [
  {
   "cell_type": "code",
   "execution_count": null,
   "id": "43a46168",
   "metadata": {},
   "outputs": [
    {
     "name": "stderr",
     "output_type": "stream",
     "text": [
      "/usr/local/lib/python3.11/site-packages/tqdm/auto.py:21: TqdmWarning: IProgress not found. Please update jupyter and ipywidgets. See https://ipywidgets.readthedocs.io/en/stable/user_install.html\n",
      "  from .autonotebook import tqdm as notebook_tqdm\n"
     ]
    }
   ],
   "source": [
    "from googleapiclient.discovery import build\n",
    "from googleapiclient.http import MediaIoBaseDownload\n",
    "from google_auth_oauthlib.flow import InstalledAppFlow\n",
    "from google.auth.transport.requests import Request\n",
    "from google.oauth2.credentials import Credentials\n",
    "import faiss\n",
    "import os, io, pickle\n",
    "from langchain.chains import RetrievalQA\n",
    "from langchain_chroma import Chroma\n",
    "from langchain_community.document_loaders import PyPDFLoader\n",
    "from langchain.document_loaders import PyPDFLoader\n",
    "from langchain.embeddings import HuggingFaceEmbeddings\n",
    "from langchain.schema import Document\n",
    "from langchain.text_splitter import (\n",
    "    RecursiveCharacterTextSplitter,\n",
    "    CharacterTextSplitter,\n",
    "    SpacyTextSplitter\n",
    ")\n",
    "from langchain.document_loaders import PyPDFDirectoryLoader  # a class for loading PDF documents from a directory\n",
    "from langchain.vectorstores import FAISS\n",
    "import numpy as np\n",
    "import pandas as pd\n",
    "import tiktoken\n",
    "from sentence_transformers import SentenceTransformer\n",
    "import shutil\n",
    "import statistics\n",
    "#import fitz  # PyMuPDF\n",
    "#from langchain.embeddings import OpenAIEmbeddings\n",
    "#from langchain_community.vectorstores import FAISS\n",
    "#from langchain_community.embeddings import OpenAIEmbeddings\n",
    "#from langchain.llms import OpenAI"
   ]
  },
  {
   "cell_type": "code",
   "execution_count": null,
   "id": "240f7dd9",
   "metadata": {},
   "outputs": [],
   "source": [
    "SCOPES = ['https://www.googleapis.com/auth/drive.readonly']\n",
    "\n",
    "def authenticate_google():\n",
    "    creds = None\n",
    "    if os.path.exists(\"token\"):\n",
    "        with open(\"token\", \"rb\") as token:\n",
    "            creds = pickle.load(token)\n",
    "\n",
    "    if not creds or not creds.valid:\n",
    "        if creds and creds.expired and creds.refresh_token:\n",
    "            creds.refresh(Request())\n",
    "        else:\n",
    "            flow = InstalledAppFlow.from_client_secrets_file(\"credentials3.json\", SCOPES)\n",
    "            creds = flow.run_local_server(port=0)\n",
    "        with open(\"token\", \"wb\") as token:\n",
    "            pickle.dump(creds, token)\n",
    "    \n",
    "    return build(\"drive\", \"v3\", credentials=creds)\n",
    "\n",
    "def download_pdf(file_id, output_path):\n",
    "    service = authenticate_google()\n",
    "    request = service.files().get_media(fileId=file_id)\n",
    "    fh = io.FileIO(output_path, \"wb\")\n",
    "    downloader = MediaIoBaseDownload(fh, request)\n",
    "    done = False\n",
    "    while done is False:\n",
    "        status, done = downloader.next_chunk()\n",
    "        print(f\"Téléchargement : {int(status.progress() * 100)}%\")\n",
    "    print(f\"Fichier téléchargé : {output_path}\")\n",
    "\n",
    "\n"
   ]
  },
  {
   "cell_type": "code",
   "execution_count": 5,
   "id": "68b006b1",
   "metadata": {},
   "outputs": [
    {
     "name": "stdout",
     "output_type": "stream",
     "text": [
      "Téléchargement : 100%\n",
      "Fichier téléchargé : Histoire_CM1.pdf\n",
      "Téléchargement : 100%\n",
      "Fichier téléchargé : histoire-CM1-emanuel.pdf\n"
     ]
    }
   ],
   "source": [
    "#file_id = \"1AHE1lXi_kyrtRw31qEGJ7OYE9EO8kfGe\"\n",
    "download_pdf(\"1AHE1lXi_kyrtRw31qEGJ7OYE9EO8kfGe\", \"Histoire_CM1.pdf\")\n",
    "download_pdf(\"1cGcGr-YYfIxUzYwmHHcxcp7kL-fuppqA\", \"histoire-CM1-emanuel.pdf\")"
   ]
  },
  {
   "cell_type": "code",
   "execution_count": 6,
   "id": "ae1e882f",
   "metadata": {},
   "outputs": [],
   "source": [
    "# Fonction pour estimer le nombre de tokens d’un texte\n",
    "def count_tokens(text, model=\"gpt-3.5-turbo\"):\n",
    "    enc = tiktoken.encoding_for_model(model)\n",
    "    return len(enc.encode(text))"
   ]
  },
  {
   "cell_type": "code",
   "execution_count": 9,
   "id": "bdbd1000",
   "metadata": {},
   "outputs": [],
   "source": [
    "# Charger ton PDF\n",
    "loader = PyPDFLoader(\"Histoire_CM1.pdf\",\n",
    "                     mode = \"page\", # Extract the PDF by page. Each page is extracted as a langchain Document object\n",
    "                     # mode = \"single\" # PyPDFLoader will split the PDF as a single text flow\n",
    "                     )\n",
    "docs = loader.load()"
   ]
  },
  {
   "cell_type": "code",
   "execution_count": null,
   "id": "b467be12",
   "metadata": {},
   "outputs": [],
   "source": [
    "# Importer plusieurs PDF au moyen de PyPDFDirectoryLoader\n",
    "# Par défaut, importe page par page \n",
    "loader = PyPDFDirectoryLoader(\n",
    "    path = \"./\",\n",
    "    glob = \"**/[!.]*.pdf\",\n",
    "    extract_images = False,\n",
    ")\n",
    "\n",
    "docs = loader.load()"
   ]
  },
  {
   "cell_type": "code",
   "execution_count": 10,
   "id": "f225f095",
   "metadata": {},
   "outputs": [
    {
     "data": {
      "text/plain": [
       "[Document(metadata={'producer': 'Microsoft® Word 2010', 'creator': 'Microsoft® Word 2010', 'creationdate': '2018-07-23T15:58:49+02:00', 'title': 'Leçons d’histoire  CM1', 'author': 'Saleur', 'moddate': '2018-07-23T15:58:49+02:00', 'source': 'Histoire_CM1.pdf', 'total_pages': 12, 'page': 0, 'page_label': '1'}, page_content='LLeeççoonnss  dd’’hhiissttooiirree    CCMM11  \\n \\n \\n1)  Qu’est-ce que l’Histoire ? \\n \\n*L’Histoire est l’étude de notre passé  pour mieux \\ncomprendre notre vie aujourd’hui. \\n \\n *Pour découvrir notre passé, les historiens font des fouilles \\narchéologiques, étudient des objets, des documents, des récits…  \\n*Ils représentent le temps par une ligne graduée  : c’est la frise \\nchronologique.  \\n \\n*Avant l’invention de l’écriture, c’est la Préhistoire , ensuite vient \\nl’Histoire.  \\n*L’Histoire de France est divisée en 5 périodes : \\nl’Antiquité – le Moyen Âge – les Temps Modernes – le XIX ème \\nsiècle – le XXème siècle. \\n \\n \\n \\n \\n2) Des traces du passé : les grottes ornées \\n \\n*En 1940, 4 enfants découvrent une grotte recouverte \\nde peintures  : des taureaux, des cerfs, des chevaux…  : \\nla grotte de Lascaux.  En datant les objets trouvés dans la grotte on \\nsait qu’elle a été peinte il y a environ 17000 ans.  \\n \\n*En 1994, Jean -Marie Chauvet découvre une autre grotte peinte il y \\na 36000 ans : la grotte Chauvet.  \\n \\n*Les hommes ont utilisés des techniques variées pour représenter des \\nanimaux.  \\n*Les hommes préhistoriques ont inventé l’art.'),\n",
       " Document(metadata={'producer': 'Microsoft® Word 2010', 'creator': 'Microsoft® Word 2010', 'creationdate': '2018-07-23T15:58:49+02:00', 'title': 'Leçons d’histoire  CM1', 'author': 'Saleur', 'moddate': '2018-07-23T15:58:49+02:00', 'source': 'Histoire_CM1.pdf', 'total_pages': 12, 'page': 1, 'page_label': '2'}, page_content='3) Comment vivaient les hommes qui ont peint la \\ngrotte de Lascaux ? \\n \\n*L’homme moderne apparaît il y a 40 000 ans. On l’appelle Homo \\nsapiens. Il est nomade et vit de la cueillette et de la chasse. Il chasse \\nsurtout des rennes dont il utilise tous les éléments. (La peau pour les \\nvêtements ou les cabanes, la graisse pour les lampes, les dents en \\ncollier…) \\n \\n*C’est un artisan capable de fabriquer de nombreux outils en \\ntaillant des pierres ou de l’os.  \\n \\n*Nomade : adj : qui ne vit pas toujours au même endroit.  \\n \\n \\n \\n \\n \\n4) Qui sont les Gaulois ? \\n \\n*On parle des Gaulois à partir de 600 ans avant JC.  \\n*La Gaule est constituée de nombreux peuples qui se \\nfont souvent la guerre.  \\n \\n*Ils vivent dans des fermes  regroupées en village. Ce sont des \\nagriculteurs, des éleveurs , pour cela ils déboisent pour former des \\nchamps qui sont encore présents aujourd’hui.  \\n \\n*Ce sont également des artisans  habiles qui créent des outils et \\ninventent le tonneau, la roue, le savon, la charrue attelée, la faux…'),\n",
       " Document(metadata={'producer': 'Microsoft® Word 2010', 'creator': 'Microsoft® Word 2010', 'creationdate': '2018-07-23T15:58:49+02:00', 'title': 'Leçons d’histoire  CM1', 'author': 'Saleur', 'moddate': '2018-07-23T15:58:49+02:00', 'source': 'Histoire_CM1.pdf', 'total_pages': 12, 'page': 2, 'page_label': '3'}, page_content='5) Qui sont les Gallo-Romains ? \\n \\n*Les Romains, emmenés par Jules César, ont envahi \\nla Gaule en l’an 52 av. JC . Les Gaulois deviennent \\nles Gallo-Romains et vivent en paix.  \\n \\n*Ils construisent de nombreux bâtiments ( voie romaine, aqueduc, \\ntemple, théâtre, arène…) et créent de nombreuses villes.  \\n \\n*Une nouvelle religion, le chris tianisme, apparaî t. Les chrétiens \\ncroient que Jésus est le fils de Dieu. Les chrétiens sont d’abord \\npersécutés puis cette religion se répand dans tout l’empire romain.  \\n \\n \\n \\n \\n \\n6) Que devient la Gaule romaine ? \\n \\n*Au Vème siècle, l’empire romain est envahi par des \\npeuples venus de l’est . Ils s’ installent en Gaule et \\nl’empire romain disparaît  en 476 . C’est la fin de \\nl’Antiquité et le début du Moyen Âge. \\n \\n*Les Francs, emmenés par Clovis conquièrent une grande partie de la \\nGaule. Clovis devient chrétien en se faisant baptiser en 496.'),\n",
       " Document(metadata={'producer': 'Microsoft® Word 2010', 'creator': 'Microsoft® Word 2010', 'creationdate': '2018-07-23T15:58:49+02:00', 'title': 'Leçons d’histoire  CM1', 'author': 'Saleur', 'moddate': '2018-07-23T15:58:49+02:00', 'source': 'Histoire_CM1.pdf', 'total_pages': 12, 'page': 3, 'page_label': '4'}, page_content='7) Charlemagne et les Carolingiens \\n \\n*Charlemagne est un grand guerrier  qui réussit à \\nconquérir un vaste territoire. Le pape le couronne \\nempereur en l’an 800.  \\n \\n*A sa mort, l’empire est divisé entre ses trois fils qui perdent \\nrapidement leurs pouvoirs.  \\n \\n*Ils ne peuvent résister aux invasions des Vikings venus du nord . \\nCeux-ci remontent les fleuves sur leurs drakkars pour piller les villes \\net capturer des esclaves. Ils s’installeront en Normandie.  \\n \\n \\n \\n \\n8) Seigneurs et paysans au Moyen Âge \\n \\n*Les seigneurs et leurs familles habitent dans un \\nchâteau. Les châteaux sont des forteresses en pierre  de mieux en \\nmieux équipées pour se défendre contre les ennemis.  \\n \\n*Pour l’aider à protéger le château, le seigneur s’entoure de \\nchevaliers.  \\n \\n*Mais a u Moyen Âge, 9 personnes sur 10 sont des paysans . \\nComme les terres ne leur appartiennent pas, ils doivent payer des \\nimpôts et travailler gratuitement pour le seigneur.'),\n",
       " Document(metadata={'producer': 'Microsoft® Word 2010', 'creator': 'Microsoft® Word 2010', 'creationdate': '2018-07-23T15:58:49+02:00', 'title': 'Leçons d’histoire  CM1', 'author': 'Saleur', 'moddate': '2018-07-23T15:58:49+02:00', 'source': 'Histoire_CM1.pdf', 'total_pages': 12, 'page': 4, 'page_label': '5'}, page_content='9) L’Eglise au Moyen Âge \\n \\n*Les hommes du Moyen Âge sont  chrétiens et  très \\ncroyants. Leur vie est rythmée par les fêtes et les \\nsacrements religieux (baptême, mariage, confirmation…) \\nLe clergé aide aussi les malades et fait souvent l’école.  \\n \\n*Les moines  recopient les livres  (souvent la bible)  à la main . \\nMais, en 1450, Gutenberg invente le caractère mobile en métal qui \\npermet d’imprimer des livres en beaucoup plus grande quantité.  \\nCette invention marque la fin du Moyen Age et le début des \\nTemps Modernes.  \\n \\n*Le clergé  : ensemble des religieux. (les curés, les évêques, les \\nmoines, les religieuses…)  \\n*La bible : ensemble des textes sacrés des juifs et des chrétiens \\n \\n \\n \\n10) Musulmans et chrétiens en Méditerranée \\n \\n*Au début du VIIème siècle, en Arabie, Mahomet crée une \\nnouvelle religion avec un dieu unique  : l’islam. Les \\nmusulmans pensent que le Coran contient la parole de Dieu.  \\n \\n*Ils envahissent une grande partie de la Méditerranée.  \\n* Les chrétiens organisent des croisades  pour reprendre les lieux \\nsaints (Jérusalem).  Mais ils sont mal équipés et les croisades se \\ntermineront souvent par des échecs. \\n \\n* Des produits  (or, ivoire, escl aves, bois, épices, bijoux, armes, \\nsoie…) mais aussi des techniques, des savoirs  (médecine, \\nmathématiques, …) ont été échangés entre les musulmans et les \\nchrétiens.'),\n",
       " Document(metadata={'producer': 'Microsoft® Word 2010', 'creator': 'Microsoft® Word 2010', 'creationdate': '2018-07-23T15:58:49+02:00', 'title': 'Leçons d’histoire  CM1', 'author': 'Saleur', 'moddate': '2018-07-23T15:58:49+02:00', 'source': 'Histoire_CM1.pdf', 'total_pages': 12, 'page': 5, 'page_label': '6'}, page_content='11) Louis IX et les Capétiens \\n \\n*En 987, Hugues Capet, roi de France, fonde la dynastie \\ndes Capétiens qui dirigera la France jusqu’en 1789. Mais \\nil n’est à la tête que d’un tout petit territoire.  \\n \\n*Progressivement celui -ci s’agrandit grâce à des rois \\ncomme Louis IX . Celui -ci veut faire appli quer une vraie justice  et \\nessaye de vivre comme un bon chrétien . Après sa mort lors de la \\nVIIIème croisade,  il deviendra Saint Louis.  \\n  \\n*Capétien: roi de la famille de Hugues Capet  \\n \\n \\n \\n \\n \\n12) Les Européens à la conquête du monde \\n \\n*A partir du XV ème siècle les Européens partent à la \\nconquête de nouveaux territoires pour y chercher de l’or, \\ndes épices et pour répandre la religion chrétienne.  \\n \\n*En 1492 , Christophe Colomb , au service du roi d’Espagne , \\ndécouvre l’Amérique.  \\n*Magellan prouve que la Terre est ronde en faisant le tour du \\nmonde.  \\n*Des Français emmenés par Jacques Cartier s’installent au Canada.  \\n \\n*Mais les Européens exploitent les nouvelles terres par la violence \\net l’esclavage.'),\n",
       " Document(metadata={'producer': 'Microsoft® Word 2010', 'creator': 'Microsoft® Word 2010', 'creationdate': '2018-07-23T15:58:49+02:00', 'title': 'Leçons d’histoire  CM1', 'author': 'Saleur', 'moddate': '2018-07-23T15:58:49+02:00', 'source': 'Histoire_CM1.pdf', 'total_pages': 12, 'page': 6, 'page_label': '7'}, page_content='13) La Renaissance \\n \\n*Au XV ème et XVI ème siècles, on redécou vre l’art et la \\nculture grecque et romaine  d’abord en Italie  puis dans \\ntoute l’Europe. C’est la Renaissance.  \\n \\n*Des intellectuels et des artistes comme Léonard de Vinci  sont \\ncurieux de tout.  \\n*Ils admirent l’Homme  et pensent que l’instruction permettra d e \\nl’améliorer et le rendra heureux.   \\n \\n*Les découvertes scientifiques sont également nombreuses . Ainsi \\nle Polonais Copernic en 1543 affirme que la Terre tourne autour du \\nSoleil.  Mais les savants s’opposent souvent aux religions. \\n \\n \\n \\n \\n14) François Ier, roi de la Renaissance française \\n \\n*François Ier est un roi puissant qui fait respecter la \\nmonarchie.  \\n*Le français devient la langue officielle.  \\n \\n*En faisant la guerre en Italie , il découvre et admire la \\nRenaissance. Il fait venir des artistes italiens comme Léonard de \\nVinci en France.  \\n \\n*Il emmène sa cour  dans de somptueux châteaux  (Chambord, \\nAmboise, le Louvre…). Les châteaux se transforment et deviennent \\nplus lumineux et confortables. \\n \\n*Monarchie : pays dirigé par un roi.  \\n*Cour : ensemble des personnes qui entourent le roi.'),\n",
       " Document(metadata={'producer': 'Microsoft® Word 2010', 'creator': 'Microsoft® Word 2010', 'creationdate': '2018-07-23T15:58:49+02:00', 'title': 'Leçons d’histoire  CM1', 'author': 'Saleur', 'moddate': '2018-07-23T15:58:49+02:00', 'source': 'Histoire_CM1.pdf', 'total_pages': 12, 'page': 7, 'page_label': '8'}, page_content='15) Henri IV et les réformes religieuses  \\ndu XVIème siècle :  \\n \\n*Au XVIème siècle, certains chrétiens protestent contre \\nles abus de l’Eglise catholique qui pense surtout à \\ns’enrichir. Ainsi Martin Luther créé une nouvelle \\nreligion : le protestantisme.  \\n \\n*Protestants et Catholiques s’affrontent dans des guerres de religion \\nqui font de nombreuses victimes.  \\n \\n*Henri IV y met fin en signant « l’Edit de Nantes » qui autorise les \\nprotestants à vivre selon leur religion. Mais le roi meurt assassiné.  \\n \\n*Edit : Loi imposée par un roi \\n \\n \\n \\n \\n16) Louis XIV et la monarchie absolue \\n \\n*De 1661 à 1715, Louis XIV dirige seul la France. Son \\npouvoir lui vient directement de Dieu : C’est la \\nmonarchie absolue.  \\n \\n*Il protège et encourage les artistes (Molière, La Fontaine…) et les \\nsavants. Il met en scène tous les moments de sa vie : c’est le Roi-Soleil. \\n \\n*Mais le roi dépense beaucoup d’argent (Versailles, guerres…) et les \\npaysans souffrent de famines et d’épidémies. \\n \\n*Monarchie absolue : n.f. Pays dirigé par un roi qui a presque tous les \\npouvoirs'),\n",
       " Document(metadata={'producer': 'Microsoft® Word 2010', 'creator': 'Microsoft® Word 2010', 'creationdate': '2018-07-23T15:58:49+02:00', 'title': 'Leçons d’histoire  CM1', 'author': 'Saleur', 'moddate': '2018-07-23T15:58:49+02:00', 'source': 'Histoire_CM1.pdf', 'total_pages': 12, 'page': 8, 'page_label': '9'}, page_content='17) La société d’Ancien Régime  \\n(XVIIème et XVIIIème siècles)  \\n \\n*A cette époque, la France est divisée en trois ordres :  \\nle clergé, la noblesse et le Tiers Etat.  \\n \\n*Les deux premiers sont des privilégiés mais le Tiers \\nEtat est le seul à payer l’impôt le plus lourd : la taille. \\nLes Français sont de plus en plus mécontents de ces \\ninjustices.  \\n \\n*Au XVIIIème siècle les philosophes des Lumières (Voltaire …) \\ncritiquent la monarchie absolue, l’intolérance et les injustices. \\n \\n*privilège : avantage que quelqu’un a sur quelqu’un d’autre \\n \\n \\n \\n \\n \\n \\n18) Esclavage et grand commerce au XVIIIème siècle \\n \\n*En Amérique, les Européens manquent de main \\nd’œuvre pour travailler dans leurs exploitations.  \\n \\n*Ils décident alors d’utiliser des esclaves noirs  qu’ils font venir \\nd’Afrique. Ils les déposent en Amérique pour qu’ils travaillent dans \\nleurs plantations  et ramènent des marchandises ( sucre, café…) en \\nEurope.  \\n \\n*La vie des esclaves est  très difficile  mais l’esclavage se poursuit \\njusqu’au XIXème siècle malgré les protestations de quelques prêtres \\net écrivains.'),\n",
       " Document(metadata={'producer': 'Microsoft® Word 2010', 'creator': 'Microsoft® Word 2010', 'creationdate': '2018-07-23T15:58:49+02:00', 'title': 'Leçons d’histoire  CM1', 'author': 'Saleur', 'moddate': '2018-07-23T15:58:49+02:00', 'source': 'Histoire_CM1.pdf', 'total_pages': 12, 'page': 9, 'page_label': '10'}, page_content='19) Les débuts de la Révolution (1789-1792) \\n \\n*En 1789 , le peuple se révolte contre le roi et les \\nprivilèges : c’est la Révolution Française . Le 14 juillet , le peuple \\ns’empare de la Bastille.  \\n \\n*Le clergé et les nobles ont p eur des révoltes des paysans. En août, \\nl’assemblée supprime les privilèges et adopte la Déclaration des \\ndroits de l’homme et du citoyen.    \\n*Article 1 : Les hommes naissent libres et égaux en droits.  \\n \\n*privilège : avantage que quelqu’un a sur quelqu’un d’autre. \\n \\n \\n \\n \\n20) La Révolution Française \\n \\n*Une constitution est votée. Mais le roi, Louis XVI, perd la \\nconfiance du peuple et est guillotiné.  \\n \\n*En 1792, la première République  est proclamée. Mais la révolution \\nest menacée de toutes parts. La Terreur  est alors décl arée et tous les \\nsuspects sont guillotinés. Mais les Français refusent cette violence et un \\nautre gouvernement est mis en place.  \\n \\n*Il sera renversé par Napoléon le 18 brumaire.   \\n \\n  *Constitution : texte qui précise comment un pays est dirigé.'),\n",
       " Document(metadata={'producer': 'Microsoft® Word 2010', 'creator': 'Microsoft® Word 2010', 'creationdate': '2018-07-23T15:58:49+02:00', 'title': 'Leçons d’histoire  CM1', 'author': 'Saleur', 'moddate': '2018-07-23T15:58:49+02:00', 'source': 'Histoire_CM1.pdf', 'total_pages': 12, 'page': 10, 'page_label': '11'}, page_content='21) Le Consulat et l’Empire (1799-1815) \\n \\n*Le général Bonaparte remporte de nombreuses victoires \\nmilitaires, comme Austerlitz.  \\n \\n*Il  adopte une nouvelle constitution qui lui donne tous les \\npouvoirs.  \\n \\n*Il crée les départements dirigés par un préfet, la banque de France, \\nles lycées…  \\n \\n*Il se fait sacrer empereur le 2 décembre 1804  à Notre  Dame de \\nParis. Il devient alors Napoléon Ier. \\n \\n \\n \\n \\n22) Les guerres de la Révolution et de l’Empire \\n(1792-1815)  \\n \\n*En raison des nombreu ses et terribles guerres  de la \\nRévolution et de l’Empire, la France a conquis une grande partie de \\nl’Europe. Mais les autres pays européens finissent par gagner contre \\nla France épuisée par des guerres incessantes.  \\n \\n*Napoléon perd la bataille de Waterloo contre les Anglais et abdique \\ndéfinitivement en 1815.    \\n \\n*Abdiquer : renoncer au pouvoir'),\n",
       " Document(metadata={'producer': 'Microsoft® Word 2010', 'creator': 'Microsoft® Word 2010', 'creationdate': '2018-07-23T15:58:49+02:00', 'title': 'Leçons d’histoire  CM1', 'author': 'Saleur', 'moddate': '2018-07-23T15:58:49+02:00', 'source': 'Histoire_CM1.pdf', 'total_pages': 12, 'page': 11, 'page_label': '12'}, page_content='22) Les apports de la Révolution et de l’Empire \\n \\n\\uf0b7 La Révolution et l’Empire ont permis de créer une \\nadministration efficace.  \\n \\n\\uf0b7 Les Français sont des citoyens avec des droits et des devoirs.  \\n \\n\\uf0b7 Les lois sont réunies dans le code civil  et les juges deviennent \\nindépendants.  \\n \\n\\uf0b7 Chacun est libre de choisir sa religion.  \\n \\n\\uf0b7 Des symboles réunissent les Français :  \\n*  la Marseillaise,  \\n* le drapeau,  \\n* une devise : « Liberté,  Egalité, Fraternité »,  \\n*  une fête : le 14 juillet.')]"
      ]
     },
     "execution_count": 10,
     "metadata": {},
     "output_type": "execute_result"
    }
   ],
   "source": [
    "docs"
   ]
  },
  {
   "cell_type": "code",
   "execution_count": 11,
   "id": "6c4f80fd",
   "metadata": {},
   "outputs": [
    {
     "name": "stdout",
     "output_type": "stream",
     "text": [
      "Nombre de pages : 12\n",
      "Métadonnées de la première page : {'producer': 'Microsoft® Word 2010', 'creator': 'Microsoft® Word 2010', 'creationdate': '2018-07-23T15:58:49+02:00', 'title': 'Leçons d’histoire  CM1', 'author': 'Saleur', 'moddate': '2018-07-23T15:58:49+02:00', 'source': 'Histoire_CM1.pdf', 'total_pages': 12, 'page': 0, 'page_label': '1'}\n"
     ]
    }
   ],
   "source": [
    "print(\"Nombre de pages :\", len(docs))\n",
    "print(\"Métadonnées de la première page :\", docs[0].metadata)"
   ]
  },
  {
   "cell_type": "code",
   "execution_count": 12,
   "id": "b36b9f3c",
   "metadata": {},
   "outputs": [],
   "source": [
    "# Si option mode = \"single\" \n",
    "#full_text = docs[0].page_content\n",
    "#full_text"
   ]
  },
  {
   "cell_type": "code",
   "execution_count": 13,
   "id": "0cf5ad5b",
   "metadata": {},
   "outputs": [
    {
     "data": {
      "text/plain": [
       "'LLeeççoonnss  dd’’hhiissttooiirree    CCMM11  \\n \\n \\n1)  Qu’est-ce que l’Histoire ? \\n \\n*L’Histoire est l’étude de notre passé  pour mieux \\ncomprendre notre vie aujourd’hui. \\n \\n *Pour découvrir notre passé, les historiens font des fouilles \\narchéologiques, étudient des objets, des documents, des récits…  \\n*Ils représentent le temps par une ligne graduée  : c’est la frise \\nchronologique.  \\n \\n*Avant l’invention de l’écriture, c’est la Préhistoire , ensuite vient \\nl’Histoire.  \\n*L’Histoire de France est divisée en 5 périodes : \\nl’Antiquité – le Moyen Âge – les Temps Modernes – le XIX ème \\nsiècle – le XXème siècle. \\n \\n \\n \\n \\n2) Des traces du passé : les grottes ornées \\n \\n*En 1940, 4 enfants découvrent une grotte recouverte \\nde peintures  : des taureaux, des cerfs, des chevaux…  : \\nla grotte de Lascaux.  En datant les objets trouvés dans la grotte on \\nsait qu’elle a été peinte il y a environ 17000 ans.  \\n \\n*En 1994, Jean -Marie Chauvet découvre une autre grotte peinte il y \\na 36000 ans : la grotte Chauvet.  \\n \\n*Les hommes ont utilisés des techniques variées pour représenter des \\nanimaux.  \\n*Les hommes préhistoriques ont inventé l’art.\\n3) Comment vivaient les hommes qui ont peint la \\ngrotte de Lascaux ? \\n \\n*L’homme moderne apparaît il y a 40 000 ans. On l’appelle Homo \\nsapiens. Il est nomade et vit de la cueillette et de la chasse. Il chasse \\nsurtout des rennes dont il utilise tous les éléments. (La peau pour les \\nvêtements ou les cabanes, la graisse pour les lampes, les dents en \\ncollier…) \\n \\n*C’est un artisan capable de fabriquer de nombreux outils en \\ntaillant des pierres ou de l’os.  \\n \\n*Nomade : adj : qui ne vit pas toujours au même endroit.  \\n \\n \\n \\n \\n \\n4) Qui sont les Gaulois ? \\n \\n*On parle des Gaulois à partir de 600 ans avant JC.  \\n*La Gaule est constituée de nombreux peuples qui se \\nfont souvent la guerre.  \\n \\n*Ils vivent dans des fermes  regroupées en village. Ce sont des \\nagriculteurs, des éleveurs , pour cela ils déboisent pour former des \\nchamps qui sont encore présents aujourd’hui.  \\n \\n*Ce sont également des artisans  habiles qui créent des outils et \\ninventent le tonneau, la roue, le savon, la charrue attelée, la faux…\\n5) Qui sont les Gallo-Romains ? \\n \\n*Les Romains, emmenés par Jules César, ont envahi \\nla Gaule en l’an 52 av. JC . Les Gaulois deviennent \\nles Gallo-Romains et vivent en paix.  \\n \\n*Ils construisent de nombreux bâtiments ( voie romaine, aqueduc, \\ntemple, théâtre, arène…) et créent de nombreuses villes.  \\n \\n*Une nouvelle religion, le chris tianisme, apparaî t. Les chrétiens \\ncroient que Jésus est le fils de Dieu. Les chrétiens sont d’abord \\npersécutés puis cette religion se répand dans tout l’empire romain.  \\n \\n \\n \\n \\n \\n6) Que devient la Gaule romaine ? \\n \\n*Au Vème siècle, l’empire romain est envahi par des \\npeuples venus de l’est . Ils s’ installent en Gaule et \\nl’empire romain disparaît  en 476 . C’est la fin de \\nl’Antiquité et le début du Moyen Âge. \\n \\n*Les Francs, emmenés par Clovis conquièrent une grande partie de la \\nGaule. Clovis devient chrétien en se faisant baptiser en 496.\\n7) Charlemagne et les Carolingiens \\n \\n*Charlemagne est un grand guerrier  qui réussit à \\nconquérir un vaste territoire. Le pape le couronne \\nempereur en l’an 800.  \\n \\n*A sa mort, l’empire est divisé entre ses trois fils qui perdent \\nrapidement leurs pouvoirs.  \\n \\n*Ils ne peuvent résister aux invasions des Vikings venus du nord . \\nCeux-ci remontent les fleuves sur leurs drakkars pour piller les villes \\net capturer des esclaves. Ils s’installeront en Normandie.  \\n \\n \\n \\n \\n8) Seigneurs et paysans au Moyen Âge \\n \\n*Les seigneurs et leurs familles habitent dans un \\nchâteau. Les châteaux sont des forteresses en pierre  de mieux en \\nmieux équipées pour se défendre contre les ennemis.  \\n \\n*Pour l’aider à protéger le château, le seigneur s’entoure de \\nchevaliers.  \\n \\n*Mais a u Moyen Âge, 9 personnes sur 10 sont des paysans . \\nComme les terres ne leur appartiennent pas, ils doivent payer des \\nimpôts et travailler gratuitement pour le seigneur.\\n9) L’Eglise au Moyen Âge \\n \\n*Les hommes du Moyen Âge sont  chrétiens et  très \\ncroyants. Leur vie est rythmée par les fêtes et les \\nsacrements religieux (baptême, mariage, confirmation…) \\nLe clergé aide aussi les malades et fait souvent l’école.  \\n \\n*Les moines  recopient les livres  (souvent la bible)  à la main . \\nMais, en 1450, Gutenberg invente le caractère mobile en métal qui \\npermet d’imprimer des livres en beaucoup plus grande quantité.  \\nCette invention marque la fin du Moyen Age et le début des \\nTemps Modernes.  \\n \\n*Le clergé  : ensemble des religieux. (les curés, les évêques, les \\nmoines, les religieuses…)  \\n*La bible : ensemble des textes sacrés des juifs et des chrétiens \\n \\n \\n \\n10) Musulmans et chrétiens en Méditerranée \\n \\n*Au début du VIIème siècle, en Arabie, Mahomet crée une \\nnouvelle religion avec un dieu unique  : l’islam. Les \\nmusulmans pensent que le Coran contient la parole de Dieu.  \\n \\n*Ils envahissent une grande partie de la Méditerranée.  \\n* Les chrétiens organisent des croisades  pour reprendre les lieux \\nsaints (Jérusalem).  Mais ils sont mal équipés et les croisades se \\ntermineront souvent par des échecs. \\n \\n* Des produits  (or, ivoire, escl aves, bois, épices, bijoux, armes, \\nsoie…) mais aussi des techniques, des savoirs  (médecine, \\nmathématiques, …) ont été échangés entre les musulmans et les \\nchrétiens.\\n11) Louis IX et les Capétiens \\n \\n*En 987, Hugues Capet, roi de France, fonde la dynastie \\ndes Capétiens qui dirigera la France jusqu’en 1789. Mais \\nil n’est à la tête que d’un tout petit territoire.  \\n \\n*Progressivement celui -ci s’agrandit grâce à des rois \\ncomme Louis IX . Celui -ci veut faire appli quer une vraie justice  et \\nessaye de vivre comme un bon chrétien . Après sa mort lors de la \\nVIIIème croisade,  il deviendra Saint Louis.  \\n  \\n*Capétien: roi de la famille de Hugues Capet  \\n \\n \\n \\n \\n \\n12) Les Européens à la conquête du monde \\n \\n*A partir du XV ème siècle les Européens partent à la \\nconquête de nouveaux territoires pour y chercher de l’or, \\ndes épices et pour répandre la religion chrétienne.  \\n \\n*En 1492 , Christophe Colomb , au service du roi d’Espagne , \\ndécouvre l’Amérique.  \\n*Magellan prouve que la Terre est ronde en faisant le tour du \\nmonde.  \\n*Des Français emmenés par Jacques Cartier s’installent au Canada.  \\n \\n*Mais les Européens exploitent les nouvelles terres par la violence \\net l’esclavage.\\n13) La Renaissance \\n \\n*Au XV ème et XVI ème siècles, on redécou vre l’art et la \\nculture grecque et romaine  d’abord en Italie  puis dans \\ntoute l’Europe. C’est la Renaissance.  \\n \\n*Des intellectuels et des artistes comme Léonard de Vinci  sont \\ncurieux de tout.  \\n*Ils admirent l’Homme  et pensent que l’instruction permettra d e \\nl’améliorer et le rendra heureux.   \\n \\n*Les découvertes scientifiques sont également nombreuses . Ainsi \\nle Polonais Copernic en 1543 affirme que la Terre tourne autour du \\nSoleil.  Mais les savants s’opposent souvent aux religions. \\n \\n \\n \\n \\n14) François Ier, roi de la Renaissance française \\n \\n*François Ier est un roi puissant qui fait respecter la \\nmonarchie.  \\n*Le français devient la langue officielle.  \\n \\n*En faisant la guerre en Italie , il découvre et admire la \\nRenaissance. Il fait venir des artistes italiens comme Léonard de \\nVinci en France.  \\n \\n*Il emmène sa cour  dans de somptueux châteaux  (Chambord, \\nAmboise, le Louvre…). Les châteaux se transforment et deviennent \\nplus lumineux et confortables. \\n \\n*Monarchie : pays dirigé par un roi.  \\n*Cour : ensemble des personnes qui entourent le roi.\\n15) Henri IV et les réformes religieuses  \\ndu XVIème siècle :  \\n \\n*Au XVIème siècle, certains chrétiens protestent contre \\nles abus de l’Eglise catholique qui pense surtout à \\ns’enrichir. Ainsi Martin Luther créé une nouvelle \\nreligion : le protestantisme.  \\n \\n*Protestants et Catholiques s’affrontent dans des guerres de religion \\nqui font de nombreuses victimes.  \\n \\n*Henri IV y met fin en signant « l’Edit de Nantes » qui autorise les \\nprotestants à vivre selon leur religion. Mais le roi meurt assassiné.  \\n \\n*Edit : Loi imposée par un roi \\n \\n \\n \\n \\n16) Louis XIV et la monarchie absolue \\n \\n*De 1661 à 1715, Louis XIV dirige seul la France. Son \\npouvoir lui vient directement de Dieu : C’est la \\nmonarchie absolue.  \\n \\n*Il protège et encourage les artistes (Molière, La Fontaine…) et les \\nsavants. Il met en scène tous les moments de sa vie : c’est le Roi-Soleil. \\n \\n*Mais le roi dépense beaucoup d’argent (Versailles, guerres…) et les \\npaysans souffrent de famines et d’épidémies. \\n \\n*Monarchie absolue : n.f. Pays dirigé par un roi qui a presque tous les \\npouvoirs\\n17) La société d’Ancien Régime  \\n(XVIIème et XVIIIème siècles)  \\n \\n*A cette époque, la France est divisée en trois ordres :  \\nle clergé, la noblesse et le Tiers Etat.  \\n \\n*Les deux premiers sont des privilégiés mais le Tiers \\nEtat est le seul à payer l’impôt le plus lourd : la taille. \\nLes Français sont de plus en plus mécontents de ces \\ninjustices.  \\n \\n*Au XVIIIème siècle les philosophes des Lumières (Voltaire …) \\ncritiquent la monarchie absolue, l’intolérance et les injustices. \\n \\n*privilège : avantage que quelqu’un a sur quelqu’un d’autre \\n \\n \\n \\n \\n \\n \\n18) Esclavage et grand commerce au XVIIIème siècle \\n \\n*En Amérique, les Européens manquent de main \\nd’œuvre pour travailler dans leurs exploitations.  \\n \\n*Ils décident alors d’utiliser des esclaves noirs  qu’ils font venir \\nd’Afrique. Ils les déposent en Amérique pour qu’ils travaillent dans \\nleurs plantations  et ramènent des marchandises ( sucre, café…) en \\nEurope.  \\n \\n*La vie des esclaves est  très difficile  mais l’esclavage se poursuit \\njusqu’au XIXème siècle malgré les protestations de quelques prêtres \\net écrivains.\\n19) Les débuts de la Révolution (1789-1792) \\n \\n*En 1789 , le peuple se révolte contre le roi et les \\nprivilèges : c’est la Révolution Française . Le 14 juillet , le peuple \\ns’empare de la Bastille.  \\n \\n*Le clergé et les nobles ont p eur des révoltes des paysans. En août, \\nl’assemblée supprime les privilèges et adopte la Déclaration des \\ndroits de l’homme et du citoyen.    \\n*Article 1 : Les hommes naissent libres et égaux en droits.  \\n \\n*privilège : avantage que quelqu’un a sur quelqu’un d’autre. \\n \\n \\n \\n \\n20) La Révolution Française \\n \\n*Une constitution est votée. Mais le roi, Louis XVI, perd la \\nconfiance du peuple et est guillotiné.  \\n \\n*En 1792, la première République  est proclamée. Mais la révolution \\nest menacée de toutes parts. La Terreur  est alors décl arée et tous les \\nsuspects sont guillotinés. Mais les Français refusent cette violence et un \\nautre gouvernement est mis en place.  \\n \\n*Il sera renversé par Napoléon le 18 brumaire.   \\n \\n  *Constitution : texte qui précise comment un pays est dirigé.\\n21) Le Consulat et l’Empire (1799-1815) \\n \\n*Le général Bonaparte remporte de nombreuses victoires \\nmilitaires, comme Austerlitz.  \\n \\n*Il  adopte une nouvelle constitution qui lui donne tous les \\npouvoirs.  \\n \\n*Il crée les départements dirigés par un préfet, la banque de France, \\nles lycées…  \\n \\n*Il se fait sacrer empereur le 2 décembre 1804  à Notre  Dame de \\nParis. Il devient alors Napoléon Ier. \\n \\n \\n \\n \\n22) Les guerres de la Révolution et de l’Empire \\n(1792-1815)  \\n \\n*En raison des nombreu ses et terribles guerres  de la \\nRévolution et de l’Empire, la France a conquis une grande partie de \\nl’Europe. Mais les autres pays européens finissent par gagner contre \\nla France épuisée par des guerres incessantes.  \\n \\n*Napoléon perd la bataille de Waterloo contre les Anglais et abdique \\ndéfinitivement en 1815.    \\n \\n*Abdiquer : renoncer au pouvoir\\n22) Les apports de la Révolution et de l’Empire \\n \\n\\uf0b7 La Révolution et l’Empire ont permis de créer une \\nadministration efficace.  \\n \\n\\uf0b7 Les Français sont des citoyens avec des droits et des devoirs.  \\n \\n\\uf0b7 Les lois sont réunies dans le code civil  et les juges deviennent \\nindépendants.  \\n \\n\\uf0b7 Chacun est libre de choisir sa religion.  \\n \\n\\uf0b7 Des symboles réunissent les Français :  \\n*  la Marseillaise,  \\n* le drapeau,  \\n* une devise : « Liberté,  Egalité, Fraternité »,  \\n*  une fête : le 14 juillet.'"
      ]
     },
     "execution_count": 13,
     "metadata": {},
     "output_type": "execute_result"
    }
   ],
   "source": [
    "# Si mode = \"page\", pour concaténer tout le contenu du PDF en un seul texte brut\n",
    "full_text = \"\\n\".join([page.page_content for page in docs])\n",
    "full_text"
   ]
  },
  {
   "cell_type": "markdown",
   "id": "c1fe85a9",
   "metadata": {},
   "source": [
    "CharacterTextSplitter : simple et rapide à mettre en oeuvre mais rigide et ne garde pas la cohérence du contexte (coupe mécanique basée sur un séparateur, donc des concepts liés peuvent se retrouver séparés dans plusieurs chunks)\n",
    "RecursiveCharacterTextSplitter: découpe le texte (par paragraphes, phrases, mots) de façon itérative jusqu'à ce que le chunk atteint la limite de taille imposée. Respect de la taille fixée, mais risque de fragmentation de la cohérence du texte\n",
    "SpacyTextSplitter:\n",
    "SemanticSplitter: découpage en chunks de façon sémantique. Utilise les embeddings pour calculer la similarité entre phrases ou paragraphes. Les clusters sont créés en fonction de critères sémantiques (ex : cosine similarity). Produit des chunks avec une grande cohérence sémantique, ce qui semble idéal pour un RAG. Stratégie adaptative au contenu (ne suit pas un critère rigide de taille de caractères ou tokens). Moins performant en termes de temps d'exécution et consommateur de ressources (besoin de générer des embeddings et des calculs de similarité) et sensibilité au seuil (requiert tuning pour trouver l'équilibre entre la taille du chunk et sa cohérence)"
   ]
  },
  {
   "cell_type": "code",
   "execution_count": null,
   "id": "7f61aa29",
   "metadata": {},
   "outputs": [
    {
     "name": "stdout",
     "output_type": "stream",
     "text": [
      "Collecting fr-core-news-sm==3.8.0\n",
      "  Downloading https://github.com/explosion/spacy-models/releases/download/fr_core_news_sm-3.8.0/fr_core_news_sm-3.8.0-py3-none-any.whl (16.3 MB)\n",
      "\u001b[2K     \u001b[90m━━━━━━━━━━━━━━━━━━━━━━━━━━━━━━━━━━━━━━━━\u001b[0m \u001b[32m16.3/16.3 MB\u001b[0m \u001b[31m16.2 MB/s\u001b[0m eta \u001b[36m0:00:00\u001b[0m00:01\u001b[0m00:01\u001b[0m\n",
      "\u001b[?25hInstalling collected packages: fr-core-news-sm\n",
      "Successfully installed fr-core-news-sm-3.8.0\n",
      "\u001b[33mWARNING: Running pip as the 'root' user can result in broken permissions and conflicting behaviour with the system package manager, possibly rendering your system unusable. It is recommended to use a virtual environment instead: https://pip.pypa.io/warnings/venv. Use the --root-user-action option if you know what you are doing and want to suppress this warning.\u001b[0m\u001b[33m\n",
      "\u001b[0m\u001b[38;5;2m✔ Download and installation successful\u001b[0m\n",
      "You can now load the package via spacy.load('fr_core_news_sm')\n"
     ]
    }
   ],
   "source": [
    "!python -m spacy download fr_core_news_sm\n",
    "\n",
    "# Définir les splitters à tester\n",
    "splitters = {\n",
    "    \"RecursiveCharacterTextSplitter\": RecursiveCharacterTextSplitter(chunk_size=500, chunk_overlap=50),\n",
    "    \"RecursiveCharacterTextSplitter2\" : RecursiveCharacterTextSplitter(chunk_size=500, chunk_overlap=50, separators = [\"\\n\\n\", \"\\n\", \" \", \"\"]),\n",
    "    \"CharacterTextSplitter\": CharacterTextSplitter(separator=\"\\n \\n\", chunk_size=500, chunk_overlap=50),\n",
    "    \"SpacyTextSplitter\": SpacyTextSplitter(pipeline=\"fr_core_news_sm\", chunk_size=500)\n",
    "}"
   ]
  },
  {
   "cell_type": "code",
   "execution_count": 16,
   "id": "6ecbfe3e",
   "metadata": {},
   "outputs": [
    {
     "name": "stdout",
     "output_type": "stream",
     "text": [
      "\n",
      "🧩 RecursiveCharacterTextSplitter\n",
      " - Nombre de chunks : 27\n",
      " - Tokens/chunk (moy) : 144\n",
      " - Tokens max : 161\n",
      " - Aperçu du 1er chunk :\n",
      "LLeeççoonnss  dd’’hhiissttooiirree    CCMM11  \n",
      " \n",
      " \n",
      "1)  Qu’est-ce que l’Histoire ? \n",
      " \n",
      "*L’Histoire est l’étude de notre passé  pour mieux \n",
      "comprendre notre vie aujourd’hui. \n",
      " \n",
      " *Pour découvrir notre passé, les historiens font des fouilles \n",
      "archéologiques, étudient des objets, des documents, des récits…  \n",
      "*Ils représentent le temps par une ligne graduée  : c’est la frise \n",
      "chronologique.  \n",
      " \n",
      "*Avant l’invention de l’écriture, c’est la Préhistoire , ensuite vient \n",
      "l’Histoire.\n",
      "\n",
      "\n",
      "🧩 CharacterTextSplitter\n",
      " - Nombre de chunks : 30\n",
      " - Tokens/chunk (moy) : 130\n",
      " - Tokens max : 162\n",
      " - Aperçu du 1er chunk :\n",
      "LLeeççoonnss  dd’’hhiissttooiirree    CCMM11  \n",
      " \n",
      " \n",
      "1)  Qu’est-ce que l’Histoire ? \n",
      " \n",
      "*L’Histoire est l’étude de notre passé  pour mieux \n",
      "comprendre notre vie aujourd’hui. \n",
      " \n",
      " *Pour découvrir notre passé, les historiens font des fouilles \n",
      "archéologiques, étudient des objets, des documents, des récits…  \n",
      "*Ils représentent le temps par une ligne graduée  : c’est la frise \n",
      "chronologique.\n",
      "\n",
      "\n",
      "🧩 SpacyTextSplitter\n",
      " - Nombre de chunks : 40\n",
      " - Tokens/chunk (moy) : 129\n",
      " - Tokens max : 160\n",
      " - Aperçu du 1er chunk :\n",
      "LLeeççoonnss  dd’’hhiissttooiirree    CCMM11  \n",
      " \n",
      " \n",
      "1)  \n",
      "\n",
      "Qu’est-ce que l’Histoire ? \n",
      " \n",
      "*L’\n",
      "\n",
      "Histoire\n",
      "\n",
      "est l’étude de notre passé  pour mieux \n",
      "comprendre notre vie aujourd’hui.\n",
      "\n",
      "\n",
      " \n",
      " *Pour découvrir notre passé, les historiens font des fouilles \n",
      "archéologiques, étudient des objets, des documents, des récits…  \n",
      "*Ils représentent le temps par une ligne graduée  : c’est la frise \n",
      "chronologique.  \n",
      " \n",
      "*Avant l’invention de l’écriture, c’est la Préhistoire , ensuite vient \n",
      "l’Histoire.  \n",
      "\n",
      "\n",
      "*L’\n",
      "\n"
     ]
    }
   ],
   "source": [
    "# Tester les splitters\n",
    "for name, splitter in splitters.items():\n",
    "    chunks = splitter.split_text(full_text)\n",
    "    token_counts = [count_tokens(chunk) for chunk in chunks]\n",
    "\n",
    "    print(f\"\\n🧩 {name}\")\n",
    "    print(f\" - Nombre de chunks : {len(chunks)}\")\n",
    "    print(f\" - Tokens/chunk (moy) : {round(statistics.mean(token_counts))}\")\n",
    "    print(f\" - Tokens max : {max(token_counts)}\")\n",
    "    print(f\" - Aperçu du 1er chunk :\\n{chunks[0]}\\n\")\n",
    "    #print(f\" - Aperçu du 2e chunk :\\n{chunks[1]}\\n\")\n",
    "    #print(f\" - Aperçu du 3e chunk :\\n{chunks[2]}\\n\")\n"
   ]
  },
  {
   "cell_type": "code",
   "execution_count": null,
   "id": "0c2eaecb",
   "metadata": {},
   "outputs": [],
   "source": [
    "# Chunking sémantique\n",
    "import spacy\n",
    "from sentence_transformers import SentenceTransformer, util\n",
    "nlp = spacy.load(\"fr_core_web_sm\")\n",
    "model = SentenceTransformer(\"all-MiniLM-L6-v2\")\n",
    "\n",
    "def semantic_embedding_chunk(text, threshold = 0.75):\n",
    "    \"\"\"\n",
    "    Découpe le texte en chunks en utilisant des embeddings de phrase\n",
    "    Utilise spaCy pour la segmentation en phrase et SentenceTranformer pour la création d'embeddings\n",
    "\n",
    "    Args:\n",
    "        text (_type_): le texte à découper en chunks\n",
    "        threshold (float, optional): seuil de cosine similarity au-delà duquel on ajoute une phrase au chunk courant. Defaults to 0.75.\n",
    "    \n",
    "    Return : une liste de chunks (chaque chunk est une chaîne de caractères)\n",
    "    \"\"\"\n",
    "    \n",
    "    doc = nlp(text)\n",
    "    sentences = [sent.text.strip() for sent in doc.sents if sent.text.strip()]\n",
    "    current_chunk_sentences = []\n",
    "    current_chunk_embedding = None\n",
    "    \n",
    "    for sentence in sentences:\n",
    "        #Generate embedding for the current sentence\n",
    "        sentence_embedding = model.encode(sentence, convert_to_tensor = True)\n",
    "        \n",
    "        # If starting a new chunk, initialize it with the current sentence\n",
    "        if current_chunk_embedding is None:\n",
    "            current_chunk_sentences = [sentence]\n",
    "            current_chunk_embedding = sentence_embedding\n",
    "        else:\n",
    "            # Compute cosine similarity betwwen current sentence and the chunk embedding\n",
    "            sim_score = util.cos_sim(sentence_embedding, current_chunk_embedding)\n",
    "            if sim_score.item() >= threshold:\n",
    "                # Add sentence to the current chunk and update the chunk's average embedding\n",
    "                ..."
   ]
  },
  {
   "cell_type": "markdown",
   "id": "75a16566",
   "metadata": {},
   "source": [
    "Pour pouvoir dérouler la suite, on va retenir dans un premier temps la stratégie de chunking basée sur le RecursiveCharacterSplitter sans tokenization."
   ]
  },
  {
   "cell_type": "code",
   "execution_count": 17,
   "id": "912d74b0",
   "metadata": {},
   "outputs": [],
   "source": [
    "splitter = RecursiveCharacterTextSplitter(chunk_size=500, chunk_overlap=50)\n",
    "\n",
    "# Quelle différence entre split_text et split_documents ?\n",
    "# split_text renvoie une liste de strings correspondant à la liste des morceaux de texte\n",
    "# split_documents renvoie une liste de \"Langchain Documents\" (il semble splitter les chunks par page)\n",
    "# Le nombre de chunks produits est différent : 27 avec split_text, 31 avec split_documents\n",
    "chunks = splitter.split_text(full_text) \n",
    "#chunks = splitter.split_documents(docs)"
   ]
  },
  {
   "cell_type": "code",
   "execution_count": 18,
   "id": "5dd8ed8e",
   "metadata": {},
   "outputs": [
    {
     "name": "stdout",
     "output_type": "stream",
     "text": [
      "<class 'list'>\n",
      "27\n"
     ]
    }
   ],
   "source": [
    "print(type(chunks))\n",
    "print(len(chunks))"
   ]
  },
  {
   "cell_type": "code",
   "execution_count": 19,
   "id": "b9439fde",
   "metadata": {},
   "outputs": [
    {
     "data": {
      "text/plain": [
       "['LLeeççoonnss  dd’’hhiissttooiirree    CCMM11  \\n \\n \\n1)  Qu’est-ce que l’Histoire ? \\n \\n*L’Histoire est l’étude de notre passé  pour mieux \\ncomprendre notre vie aujourd’hui. \\n \\n *Pour découvrir notre passé, les historiens font des fouilles \\narchéologiques, étudient des objets, des documents, des récits…  \\n*Ils représentent le temps par une ligne graduée  : c’est la frise \\nchronologique.  \\n \\n*Avant l’invention de l’écriture, c’est la Préhistoire , ensuite vient \\nl’Histoire.',\n",
       " 'l’Histoire.  \\n*L’Histoire de France est divisée en 5 périodes : \\nl’Antiquité – le Moyen Âge – les Temps Modernes – le XIX ème \\nsiècle – le XXème siècle. \\n \\n \\n \\n \\n2) Des traces du passé : les grottes ornées \\n \\n*En 1940, 4 enfants découvrent une grotte recouverte \\nde peintures  : des taureaux, des cerfs, des chevaux…  : \\nla grotte de Lascaux.  En datant les objets trouvés dans la grotte on \\nsait qu’elle a été peinte il y a environ 17000 ans.',\n",
       " '*En 1994, Jean -Marie Chauvet découvre une autre grotte peinte il y \\na 36000 ans : la grotte Chauvet.  \\n \\n*Les hommes ont utilisés des techniques variées pour représenter des \\nanimaux.  \\n*Les hommes préhistoriques ont inventé l’art.\\n3) Comment vivaient les hommes qui ont peint la \\ngrotte de Lascaux ? \\n \\n*L’homme moderne apparaît il y a 40 000 ans. On l’appelle Homo \\nsapiens. Il est nomade et vit de la cueillette et de la chasse. Il chasse',\n",
       " 'surtout des rennes dont il utilise tous les éléments. (La peau pour les \\nvêtements ou les cabanes, la graisse pour les lampes, les dents en \\ncollier…) \\n \\n*C’est un artisan capable de fabriquer de nombreux outils en \\ntaillant des pierres ou de l’os.  \\n \\n*Nomade : adj : qui ne vit pas toujours au même endroit.  \\n \\n \\n \\n \\n \\n4) Qui sont les Gaulois ? \\n \\n*On parle des Gaulois à partir de 600 ans avant JC.  \\n*La Gaule est constituée de nombreux peuples qui se \\nfont souvent la guerre.',\n",
       " 'font souvent la guerre.  \\n \\n*Ils vivent dans des fermes  regroupées en village. Ce sont des \\nagriculteurs, des éleveurs , pour cela ils déboisent pour former des \\nchamps qui sont encore présents aujourd’hui.  \\n \\n*Ce sont également des artisans  habiles qui créent des outils et \\ninventent le tonneau, la roue, le savon, la charrue attelée, la faux…\\n5) Qui sont les Gallo-Romains ? \\n \\n*Les Romains, emmenés par Jules César, ont envahi \\nla Gaule en l’an 52 av. JC . Les Gaulois deviennent',\n",
       " 'les Gallo-Romains et vivent en paix.  \\n \\n*Ils construisent de nombreux bâtiments ( voie romaine, aqueduc, \\ntemple, théâtre, arène…) et créent de nombreuses villes.  \\n \\n*Une nouvelle religion, le chris tianisme, apparaî t. Les chrétiens \\ncroient que Jésus est le fils de Dieu. Les chrétiens sont d’abord \\npersécutés puis cette religion se répand dans tout l’empire romain.  \\n \\n \\n \\n \\n \\n6) Que devient la Gaule romaine ? \\n \\n*Au Vème siècle, l’empire romain est envahi par des',\n",
       " 'peuples venus de l’est . Ils s’ installent en Gaule et \\nl’empire romain disparaît  en 476 . C’est la fin de \\nl’Antiquité et le début du Moyen Âge. \\n \\n*Les Francs, emmenés par Clovis conquièrent une grande partie de la \\nGaule. Clovis devient chrétien en se faisant baptiser en 496.\\n7) Charlemagne et les Carolingiens \\n \\n*Charlemagne est un grand guerrier  qui réussit à \\nconquérir un vaste territoire. Le pape le couronne \\nempereur en l’an 800.',\n",
       " 'empereur en l’an 800.  \\n \\n*A sa mort, l’empire est divisé entre ses trois fils qui perdent \\nrapidement leurs pouvoirs.  \\n \\n*Ils ne peuvent résister aux invasions des Vikings venus du nord . \\nCeux-ci remontent les fleuves sur leurs drakkars pour piller les villes \\net capturer des esclaves. Ils s’installeront en Normandie.  \\n \\n \\n \\n \\n8) Seigneurs et paysans au Moyen Âge \\n \\n*Les seigneurs et leurs familles habitent dans un \\nchâteau. Les châteaux sont des forteresses en pierre  de mieux en',\n",
       " 'mieux équipées pour se défendre contre les ennemis.  \\n \\n*Pour l’aider à protéger le château, le seigneur s’entoure de \\nchevaliers.  \\n \\n*Mais a u Moyen Âge, 9 personnes sur 10 sont des paysans . \\nComme les terres ne leur appartiennent pas, ils doivent payer des \\nimpôts et travailler gratuitement pour le seigneur.\\n9) L’Eglise au Moyen Âge \\n \\n*Les hommes du Moyen Âge sont  chrétiens et  très \\ncroyants. Leur vie est rythmée par les fêtes et les',\n",
       " 'sacrements religieux (baptême, mariage, confirmation…) \\nLe clergé aide aussi les malades et fait souvent l’école.  \\n \\n*Les moines  recopient les livres  (souvent la bible)  à la main . \\nMais, en 1450, Gutenberg invente le caractère mobile en métal qui \\npermet d’imprimer des livres en beaucoup plus grande quantité.  \\nCette invention marque la fin du Moyen Age et le début des \\nTemps Modernes.  \\n \\n*Le clergé  : ensemble des religieux. (les curés, les évêques, les \\nmoines, les religieuses…)',\n",
       " 'moines, les religieuses…)  \\n*La bible : ensemble des textes sacrés des juifs et des chrétiens \\n \\n \\n \\n10) Musulmans et chrétiens en Méditerranée \\n \\n*Au début du VIIème siècle, en Arabie, Mahomet crée une \\nnouvelle religion avec un dieu unique  : l’islam. Les \\nmusulmans pensent que le Coran contient la parole de Dieu.  \\n \\n*Ils envahissent une grande partie de la Méditerranée.  \\n* Les chrétiens organisent des croisades  pour reprendre les lieux',\n",
       " 'saints (Jérusalem).  Mais ils sont mal équipés et les croisades se \\ntermineront souvent par des échecs. \\n \\n* Des produits  (or, ivoire, escl aves, bois, épices, bijoux, armes, \\nsoie…) mais aussi des techniques, des savoirs  (médecine, \\nmathématiques, …) ont été échangés entre les musulmans et les \\nchrétiens.\\n11) Louis IX et les Capétiens \\n \\n*En 987, Hugues Capet, roi de France, fonde la dynastie \\ndes Capétiens qui dirigera la France jusqu’en 1789. Mais',\n",
       " 'il n’est à la tête que d’un tout petit territoire.  \\n \\n*Progressivement celui -ci s’agrandit grâce à des rois \\ncomme Louis IX . Celui -ci veut faire appli quer une vraie justice  et \\nessaye de vivre comme un bon chrétien . Après sa mort lors de la \\nVIIIème croisade,  il deviendra Saint Louis.  \\n  \\n*Capétien: roi de la famille de Hugues Capet  \\n \\n \\n \\n \\n \\n12) Les Européens à la conquête du monde \\n \\n*A partir du XV ème siècle les Européens partent à la',\n",
       " 'conquête de nouveaux territoires pour y chercher de l’or, \\ndes épices et pour répandre la religion chrétienne.  \\n \\n*En 1492 , Christophe Colomb , au service du roi d’Espagne , \\ndécouvre l’Amérique.  \\n*Magellan prouve que la Terre est ronde en faisant le tour du \\nmonde.  \\n*Des Français emmenés par Jacques Cartier s’installent au Canada.  \\n \\n*Mais les Européens exploitent les nouvelles terres par la violence \\net l’esclavage.\\n13) La Renaissance',\n",
       " 'et l’esclavage.\\n13) La Renaissance \\n \\n*Au XV ème et XVI ème siècles, on redécou vre l’art et la \\nculture grecque et romaine  d’abord en Italie  puis dans \\ntoute l’Europe. C’est la Renaissance.  \\n \\n*Des intellectuels et des artistes comme Léonard de Vinci  sont \\ncurieux de tout.  \\n*Ils admirent l’Homme  et pensent que l’instruction permettra d e \\nl’améliorer et le rendra heureux.   \\n \\n*Les découvertes scientifiques sont également nombreuses . Ainsi',\n",
       " 'le Polonais Copernic en 1543 affirme que la Terre tourne autour du \\nSoleil.  Mais les savants s’opposent souvent aux religions. \\n \\n \\n \\n \\n14) François Ier, roi de la Renaissance française \\n \\n*François Ier est un roi puissant qui fait respecter la \\nmonarchie.  \\n*Le français devient la langue officielle.  \\n \\n*En faisant la guerre en Italie , il découvre et admire la \\nRenaissance. Il fait venir des artistes italiens comme Léonard de \\nVinci en France.',\n",
       " 'Vinci en France.  \\n \\n*Il emmène sa cour  dans de somptueux châteaux  (Chambord, \\nAmboise, le Louvre…). Les châteaux se transforment et deviennent \\nplus lumineux et confortables. \\n \\n*Monarchie : pays dirigé par un roi.  \\n*Cour : ensemble des personnes qui entourent le roi.\\n15) Henri IV et les réformes religieuses  \\ndu XVIème siècle :  \\n \\n*Au XVIème siècle, certains chrétiens protestent contre \\nles abus de l’Eglise catholique qui pense surtout à \\ns’enrichir. Ainsi Martin Luther créé une nouvelle',\n",
       " 'religion : le protestantisme.  \\n \\n*Protestants et Catholiques s’affrontent dans des guerres de religion \\nqui font de nombreuses victimes.  \\n \\n*Henri IV y met fin en signant « l’Edit de Nantes » qui autorise les \\nprotestants à vivre selon leur religion. Mais le roi meurt assassiné.  \\n \\n*Edit : Loi imposée par un roi \\n \\n \\n \\n \\n16) Louis XIV et la monarchie absolue \\n \\n*De 1661 à 1715, Louis XIV dirige seul la France. Son \\npouvoir lui vient directement de Dieu : C’est la \\nmonarchie absolue.',\n",
       " 'monarchie absolue.  \\n \\n*Il protège et encourage les artistes (Molière, La Fontaine…) et les \\nsavants. Il met en scène tous les moments de sa vie : c’est le Roi-Soleil. \\n \\n*Mais le roi dépense beaucoup d’argent (Versailles, guerres…) et les \\npaysans souffrent de famines et d’épidémies. \\n \\n*Monarchie absolue : n.f. Pays dirigé par un roi qui a presque tous les \\npouvoirs\\n17) La société d’Ancien Régime  \\n(XVIIème et XVIIIème siècles)  \\n \\n*A cette époque, la France est divisée en trois ordres :',\n",
       " 'le clergé, la noblesse et le Tiers Etat.  \\n \\n*Les deux premiers sont des privilégiés mais le Tiers \\nEtat est le seul à payer l’impôt le plus lourd : la taille. \\nLes Français sont de plus en plus mécontents de ces \\ninjustices.  \\n \\n*Au XVIIIème siècle les philosophes des Lumières (Voltaire …) \\ncritiquent la monarchie absolue, l’intolérance et les injustices. \\n \\n*privilège : avantage que quelqu’un a sur quelqu’un d’autre \\n \\n \\n \\n \\n \\n \\n18) Esclavage et grand commerce au XVIIIème siècle',\n",
       " '*En Amérique, les Européens manquent de main \\nd’œuvre pour travailler dans leurs exploitations.  \\n \\n*Ils décident alors d’utiliser des esclaves noirs  qu’ils font venir \\nd’Afrique. Ils les déposent en Amérique pour qu’ils travaillent dans \\nleurs plantations  et ramènent des marchandises ( sucre, café…) en \\nEurope.  \\n \\n*La vie des esclaves est  très difficile  mais l’esclavage se poursuit \\njusqu’au XIXème siècle malgré les protestations de quelques prêtres \\net écrivains.',\n",
       " 'et écrivains.\\n19) Les débuts de la Révolution (1789-1792) \\n \\n*En 1789 , le peuple se révolte contre le roi et les \\nprivilèges : c’est la Révolution Française . Le 14 juillet , le peuple \\ns’empare de la Bastille.  \\n \\n*Le clergé et les nobles ont p eur des révoltes des paysans. En août, \\nl’assemblée supprime les privilèges et adopte la Déclaration des \\ndroits de l’homme et du citoyen.    \\n*Article 1 : Les hommes naissent libres et égaux en droits.',\n",
       " '*privilège : avantage que quelqu’un a sur quelqu’un d’autre. \\n \\n \\n \\n \\n20) La Révolution Française \\n \\n*Une constitution est votée. Mais le roi, Louis XVI, perd la \\nconfiance du peuple et est guillotiné.  \\n \\n*En 1792, la première République  est proclamée. Mais la révolution \\nest menacée de toutes parts. La Terreur  est alors décl arée et tous les \\nsuspects sont guillotinés. Mais les Français refusent cette violence et un \\nautre gouvernement est mis en place.',\n",
       " 'autre gouvernement est mis en place.  \\n \\n*Il sera renversé par Napoléon le 18 brumaire.   \\n \\n  *Constitution : texte qui précise comment un pays est dirigé.\\n21) Le Consulat et l’Empire (1799-1815) \\n \\n*Le général Bonaparte remporte de nombreuses victoires \\nmilitaires, comme Austerlitz.  \\n \\n*Il  adopte une nouvelle constitution qui lui donne tous les \\npouvoirs.  \\n \\n*Il crée les départements dirigés par un préfet, la banque de France, \\nles lycées…',\n",
       " 'les lycées…  \\n \\n*Il se fait sacrer empereur le 2 décembre 1804  à Notre  Dame de \\nParis. Il devient alors Napoléon Ier. \\n \\n \\n \\n \\n22) Les guerres de la Révolution et de l’Empire \\n(1792-1815)  \\n \\n*En raison des nombreu ses et terribles guerres  de la \\nRévolution et de l’Empire, la France a conquis une grande partie de \\nl’Europe. Mais les autres pays européens finissent par gagner contre \\nla France épuisée par des guerres incessantes.',\n",
       " '*Napoléon perd la bataille de Waterloo contre les Anglais et abdique \\ndéfinitivement en 1815.    \\n \\n*Abdiquer : renoncer au pouvoir\\n22) Les apports de la Révolution et de l’Empire \\n \\n\\uf0b7 La Révolution et l’Empire ont permis de créer une \\nadministration efficace.  \\n \\n\\uf0b7 Les Français sont des citoyens avec des droits et des devoirs.  \\n \\n\\uf0b7 Les lois sont réunies dans le code civil  et les juges deviennent \\nindépendants.  \\n \\n\\uf0b7 Chacun est libre de choisir sa religion.',\n",
       " '\\uf0b7 Chacun est libre de choisir sa religion.  \\n \\n\\uf0b7 Des symboles réunissent les Français :  \\n*  la Marseillaise,  \\n* le drapeau,  \\n* une devise : « Liberté,  Egalité, Fraternité »,  \\n*  une fête : le 14 juillet.']"
      ]
     },
     "execution_count": 19,
     "metadata": {},
     "output_type": "execute_result"
    }
   ],
   "source": [
    "chunks"
   ]
  },
  {
   "cell_type": "code",
   "execution_count": 20,
   "id": "60aece54",
   "metadata": {},
   "outputs": [
    {
     "name": "stdout",
     "output_type": "stream",
     "text": [
      "\n",
      "--- Statistiques sur les chunks du document ---\n",
      " - Nombre de chunks : 27\n",
      " - Tokens/chunk (moy) : 129\n",
      " - Tokens max : 160\n",
      " - Aperçu du 1er chunk :\n",
      "LLeeççoonnss  dd’’hhiissttooiirree    CCMM11  \n",
      " \n",
      " \n",
      "1)  Qu’est-ce que l’Histoire ? \n",
      " \n",
      "*L’Histoire est l’étude de notre passé  pour mieux \n",
      "comprendre notre vie aujourd’hui. \n",
      " \n",
      " *Pour découvrir notre passé, les historiens font des fouilles \n",
      "archéologiques, étudient des objets, des documents, des récits…  \n",
      "*Ils représentent le temps par une ligne graduée  : c’est la frise \n",
      "chronologique.  \n",
      " \n",
      "*Avant l’invention de l’écriture, c’est la Préhistoire , ensuite vient \n",
      "l’Histoire.\n",
      "\n",
      " - Aperçu du 2e chunk :\n",
      "l’Histoire.  \n",
      "*L’Histoire de France est divisée en 5 périodes : \n",
      "l’Antiquité – le Moyen Âge – les Temps Modernes – le XIX ème \n",
      "siècle – le XXème siècle. \n",
      " \n",
      " \n",
      " \n",
      " \n",
      "2) Des traces du passé : les grottes ornées \n",
      " \n",
      "*En 1940, 4 enfants découvrent une grotte recouverte \n",
      "de peintures  : des taureaux, des cerfs, des chevaux…  : \n",
      "la grotte de Lascaux.  En datant les objets trouvés dans la grotte on \n",
      "sait qu’elle a été peinte il y a environ 17000 ans.\n",
      "\n",
      " - Aperçu du 3e chunk :\n",
      "*En 1994, Jean -Marie Chauvet découvre une autre grotte peinte il y \n",
      "a 36000 ans : la grotte Chauvet.  \n",
      " \n",
      "*Les hommes ont utilisés des techniques variées pour représenter des \n",
      "animaux.  \n",
      "*Les hommes préhistoriques ont inventé l’art.\n",
      "3) Comment vivaient les hommes qui ont peint la \n",
      "grotte de Lascaux ? \n",
      " \n",
      "*L’homme moderne apparaît il y a 40 000 ans. On l’appelle Homo \n",
      "sapiens. Il est nomade et vit de la cueillette et de la chasse. Il chasse\n",
      "\n"
     ]
    }
   ],
   "source": [
    "print(\"\\n--- Statistiques sur les chunks du document ---\")\n",
    "print(f\" - Nombre de chunks : {len(chunks)}\")\n",
    "print(f\" - Tokens/chunk (moy) : {round(statistics.mean(token_counts))}\")\n",
    "print(f\" - Tokens max : {max(token_counts)}\")\n",
    "print(f\" - Aperçu du 1er chunk :\\n{chunks[0]}\\n\")\n",
    "print(f\" - Aperçu du 2e chunk :\\n{chunks[1]}\\n\")\n",
    "print(f\" - Aperçu du 3e chunk :\\n{chunks[2]}\\n\")"
   ]
  },
  {
   "cell_type": "code",
   "execution_count": 21,
   "id": "e596009a",
   "metadata": {},
   "outputs": [
    {
     "name": "stdout",
     "output_type": "stream",
     "text": [
      "[474, 443, 442, 481, 486, 472, 443, 489, 444, 491, 445, 456, 453, 445, 451, 450, 498, 490, 494, 485, 474, 449, 461, 448, 435, 463, 208]\n"
     ]
    }
   ],
   "source": [
    "# Nombre de caractères par chunk\n",
    "print([len(chunk) for chunk in chunks])\n",
    "\n",
    "# On vérifie que le nombre de caractères est inférieur au chunk_size spécifié (500) "
   ]
  },
  {
   "cell_type": "markdown",
   "id": "c84c41c8",
   "metadata": {},
   "source": [
    "# Création des embeddings"
   ]
  },
  {
   "cell_type": "code",
   "execution_count": 40,
   "id": "e9e1566a",
   "metadata": {},
   "outputs": [
    {
     "name": "stdout",
     "output_type": "stream",
     "text": [
      "Taille des embeddings :  (27, 384)\n",
      "============================================================\n",
      "Chunk 1:\n",
      "LLeeççoonnss  dd’’hhiissttooiirree    CCMM11  \n",
      " \n",
      " \n",
      "1)  Qu’est-ce que l’Histoire ? \n",
      " \n",
      "*L’Histoire est l’étude de notre passé  pour mieux \n",
      "comprendre notre vie aujourd’hui. \n",
      " \n",
      " *Pour découvrir notre passé, les historiens font des fouilles \n",
      "archéologiques, étudient des objets, des documents, des récits…  \n",
      "*Ils représentent le temps par une ligne graduée  : c’est la frise \n",
      "chronologique.  \n",
      " \n",
      "*Avant l’invention de l’écriture, c’est la Préhistoire , ensuite vient \n",
      "l’Histoire.\n",
      "\n",
      " Embedding (taille 384):\n",
      "[-0.024  0.15   0.059 -0.052 -0.017  0.151 -0.052  0.037 -0.035  0.003]\n",
      "============================================================\n",
      "============================================================\n",
      "Chunk 2:\n",
      "l’Histoire.  \n",
      "*L’Histoire de France est divisée en 5 périodes : \n",
      "l’Antiquité – le Moyen Âge – les Temps Modernes – le XIX ème \n",
      "siècle – le XXème siècle. \n",
      " \n",
      " \n",
      " \n",
      " \n",
      "2) Des traces du passé : les grottes ornées \n",
      " \n",
      "*En 1940, 4 enfants découvrent une grotte recouverte \n",
      "de peintures  : des taureaux, des cerfs, des chevaux…  : \n",
      "la grotte de Lascaux.  En datant les objets trouvés dans la grotte on \n",
      "sait qu’elle a été peinte il y a environ 17000 ans.\n",
      "\n",
      " Embedding (taille 384):\n",
      "[-0.036  0.093  0.04  -0.078  0.001  0.029  0.011  0.041 -0.021  0.005]\n",
      "============================================================\n",
      "============================================================\n",
      "Chunk 3:\n",
      "*En 1994, Jean -Marie Chauvet découvre une autre grotte peinte il y \n",
      "a 36000 ans : la grotte Chauvet.  \n",
      " \n",
      "*Les hommes ont utilisés des techniques variées pour représenter des \n",
      "animaux.  \n",
      "*Les hommes préhistoriques ont inventé l’art.\n",
      "3) Comment vivaient les hommes qui ont peint la \n",
      "grotte de Lascaux ? \n",
      " \n",
      "*L’homme moderne apparaît il y a 40 000 ans. On l’appelle Homo \n",
      "sapiens. Il est nomade et vit de la cueillette et de la chasse. Il chasse\n",
      "\n",
      " Embedding (taille 384):\n",
      "[-0.019  0.087  0.004 -0.087 -0.045  0.058  0.077  0.023 -0.037  0.009]\n",
      "============================================================\n",
      "============================================================\n",
      "Chunk 4:\n",
      "surtout des rennes dont il utilise tous les éléments. (La peau pour les \n",
      "vêtements ou les cabanes, la graisse pour les lampes, les dents en \n",
      "collier…) \n",
      " \n",
      "*C’est un artisan capable de fabriquer de nombreux outils en \n",
      "taillant des pierres ou de l’os.  \n",
      " \n",
      "*Nomade : adj : qui ne vit pas toujours au même endroit.  \n",
      " \n",
      " \n",
      " \n",
      " \n",
      " \n",
      "4) Qui sont les Gaulois ? \n",
      " \n",
      "*On parle des Gaulois à partir de 600 ans avant JC.  \n",
      "*La Gaule est constituée de nombreux peuples qui se \n",
      "font souvent la guerre.\n",
      "\n",
      " Embedding (taille 384):\n",
      "[-0.001  0.014  0.008 -0.046 -0.01   0.017  0.051  0.037  0.003 -0.006]\n",
      "============================================================\n",
      "============================================================\n",
      "Chunk 5:\n",
      "font souvent la guerre.  \n",
      " \n",
      "*Ils vivent dans des fermes  regroupées en village. Ce sont des \n",
      "agriculteurs, des éleveurs , pour cela ils déboisent pour former des \n",
      "champs qui sont encore présents aujourd’hui.  \n",
      " \n",
      "*Ce sont également des artisans  habiles qui créent des outils et \n",
      "inventent le tonneau, la roue, le savon, la charrue attelée, la faux…\n",
      "5) Qui sont les Gallo-Romains ? \n",
      " \n",
      "*Les Romains, emmenés par Jules César, ont envahi \n",
      "la Gaule en l’an 52 av. JC . Les Gaulois deviennent\n",
      "\n",
      " Embedding (taille 384):\n",
      "[-0.015  0.03  -0.049 -0.033 -0.028  0.065 -0.     0.045 -0.053 -0.059]\n",
      "============================================================\n",
      "============================================================\n",
      "Chunk 6:\n",
      "les Gallo-Romains et vivent en paix.  \n",
      " \n",
      "*Ils construisent de nombreux bâtiments ( voie romaine, aqueduc, \n",
      "temple, théâtre, arène…) et créent de nombreuses villes.  \n",
      " \n",
      "*Une nouvelle religion, le chris tianisme, apparaî t. Les chrétiens \n",
      "croient que Jésus est le fils de Dieu. Les chrétiens sont d’abord \n",
      "persécutés puis cette religion se répand dans tout l’empire romain.  \n",
      " \n",
      " \n",
      " \n",
      " \n",
      " \n",
      "6) Que devient la Gaule romaine ? \n",
      " \n",
      "*Au Vème siècle, l’empire romain est envahi par des\n",
      "\n",
      " Embedding (taille 384):\n",
      "[ 0.027  0.015 -0.036 -0.038 -0.043  0.062  0.044  0.009 -0.01  -0.036]\n",
      "============================================================\n",
      "============================================================\n",
      "Chunk 7:\n",
      "peuples venus de l’est . Ils s’ installent en Gaule et \n",
      "l’empire romain disparaît  en 476 . C’est la fin de \n",
      "l’Antiquité et le début du Moyen Âge. \n",
      " \n",
      "*Les Francs, emmenés par Clovis conquièrent une grande partie de la \n",
      "Gaule. Clovis devient chrétien en se faisant baptiser en 496.\n",
      "7) Charlemagne et les Carolingiens \n",
      " \n",
      "*Charlemagne est un grand guerrier  qui réussit à \n",
      "conquérir un vaste territoire. Le pape le couronne \n",
      "empereur en l’an 800.\n",
      "\n",
      " Embedding (taille 384):\n",
      "[-0.024  0.053  0.026 -0.067 -0.061  0.069  0.022  0.077 -0.018  0.015]\n",
      "============================================================\n",
      "============================================================\n",
      "Chunk 8:\n",
      "empereur en l’an 800.  \n",
      " \n",
      "*A sa mort, l’empire est divisé entre ses trois fils qui perdent \n",
      "rapidement leurs pouvoirs.  \n",
      " \n",
      "*Ils ne peuvent résister aux invasions des Vikings venus du nord . \n",
      "Ceux-ci remontent les fleuves sur leurs drakkars pour piller les villes \n",
      "et capturer des esclaves. Ils s’installeront en Normandie.  \n",
      " \n",
      " \n",
      " \n",
      " \n",
      "8) Seigneurs et paysans au Moyen Âge \n",
      " \n",
      "*Les seigneurs et leurs familles habitent dans un \n",
      "château. Les châteaux sont des forteresses en pierre  de mieux en\n",
      "\n",
      " Embedding (taille 384):\n",
      "[-0.002  0.066  0.007 -0.087  0.014  0.015 -0.059  0.08  -0.112 -0.021]\n",
      "============================================================\n",
      "============================================================\n",
      "Chunk 9:\n",
      "mieux équipées pour se défendre contre les ennemis.  \n",
      " \n",
      "*Pour l’aider à protéger le château, le seigneur s’entoure de \n",
      "chevaliers.  \n",
      " \n",
      "*Mais a u Moyen Âge, 9 personnes sur 10 sont des paysans . \n",
      "Comme les terres ne leur appartiennent pas, ils doivent payer des \n",
      "impôts et travailler gratuitement pour le seigneur.\n",
      "9) L’Eglise au Moyen Âge \n",
      " \n",
      "*Les hommes du Moyen Âge sont  chrétiens et  très \n",
      "croyants. Leur vie est rythmée par les fêtes et les\n",
      "\n",
      " Embedding (taille 384):\n",
      "[ 0.025  0.09   0.013 -0.103  0.059  0.079  0.064  0.127 -0.033  0.017]\n",
      "============================================================\n",
      "============================================================\n",
      "Chunk 10:\n",
      "sacrements religieux (baptême, mariage, confirmation…) \n",
      "Le clergé aide aussi les malades et fait souvent l’école.  \n",
      " \n",
      "*Les moines  recopient les livres  (souvent la bible)  à la main . \n",
      "Mais, en 1450, Gutenberg invente le caractère mobile en métal qui \n",
      "permet d’imprimer des livres en beaucoup plus grande quantité.  \n",
      "Cette invention marque la fin du Moyen Age et le début des \n",
      "Temps Modernes.  \n",
      " \n",
      "*Le clergé  : ensemble des religieux. (les curés, les évêques, les \n",
      "moines, les religieuses…)\n",
      "\n",
      " Embedding (taille 384):\n",
      "[-0.003  0.046  0.056 -0.017 -0.089  0.057  0.016  0.025  0.078  0.029]\n",
      "============================================================\n",
      "============================================================\n",
      "Chunk 11:\n",
      "moines, les religieuses…)  \n",
      "*La bible : ensemble des textes sacrés des juifs et des chrétiens \n",
      " \n",
      " \n",
      " \n",
      "10) Musulmans et chrétiens en Méditerranée \n",
      " \n",
      "*Au début du VIIème siècle, en Arabie, Mahomet crée une \n",
      "nouvelle religion avec un dieu unique  : l’islam. Les \n",
      "musulmans pensent que le Coran contient la parole de Dieu.  \n",
      " \n",
      "*Ils envahissent une grande partie de la Méditerranée.  \n",
      "* Les chrétiens organisent des croisades  pour reprendre les lieux\n",
      "\n",
      " Embedding (taille 384):\n",
      "[ 0.02   0.06   0.009 -0.079  0.004  0.017 -0.    -0.028  0.138 -0.005]\n",
      "============================================================\n",
      "============================================================\n",
      "Chunk 12:\n",
      "saints (Jérusalem).  Mais ils sont mal équipés et les croisades se \n",
      "termineront souvent par des échecs. \n",
      " \n",
      "* Des produits  (or, ivoire, escl aves, bois, épices, bijoux, armes, \n",
      "soie…) mais aussi des techniques, des savoirs  (médecine, \n",
      "mathématiques, …) ont été échangés entre les musulmans et les \n",
      "chrétiens.\n",
      "11) Louis IX et les Capétiens \n",
      " \n",
      "*En 987, Hugues Capet, roi de France, fonde la dynastie \n",
      "des Capétiens qui dirigera la France jusqu’en 1789. Mais\n",
      "\n",
      " Embedding (taille 384):\n",
      "[-0.063  0.074 -0.014 -0.026  0.011  0.014 -0.067  0.076  0.023  0.041]\n",
      "============================================================\n",
      "============================================================\n",
      "Chunk 13:\n",
      "il n’est à la tête que d’un tout petit territoire.  \n",
      " \n",
      "*Progressivement celui -ci s’agrandit grâce à des rois \n",
      "comme Louis IX . Celui -ci veut faire appli quer une vraie justice  et \n",
      "essaye de vivre comme un bon chrétien . Après sa mort lors de la \n",
      "VIIIème croisade,  il deviendra Saint Louis.  \n",
      "  \n",
      "*Capétien: roi de la famille de Hugues Capet  \n",
      " \n",
      " \n",
      " \n",
      " \n",
      " \n",
      "12) Les Européens à la conquête du monde \n",
      " \n",
      "*A partir du XV ème siècle les Européens partent à la\n",
      "\n",
      " Embedding (taille 384):\n",
      "[ 0.057  0.11  -0.034 -0.063  0.008  0.083 -0.068  0.064  0.02   0.038]\n",
      "============================================================\n",
      "============================================================\n",
      "Chunk 14:\n",
      "conquête de nouveaux territoires pour y chercher de l’or, \n",
      "des épices et pour répandre la religion chrétienne.  \n",
      " \n",
      "*En 1492 , Christophe Colomb , au service du roi d’Espagne , \n",
      "découvre l’Amérique.  \n",
      "*Magellan prouve que la Terre est ronde en faisant le tour du \n",
      "monde.  \n",
      "*Des Français emmenés par Jacques Cartier s’installent au Canada.  \n",
      " \n",
      "*Mais les Européens exploitent les nouvelles terres par la violence \n",
      "et l’esclavage.\n",
      "13) La Renaissance\n",
      "\n",
      " Embedding (taille 384):\n",
      "[ 0.055  0.047  0.037 -0.043  0.029  0.011 -0.033 -0.008  0.     0.035]\n",
      "============================================================\n",
      "============================================================\n",
      "Chunk 15:\n",
      "et l’esclavage.\n",
      "13) La Renaissance \n",
      " \n",
      "*Au XV ème et XVI ème siècles, on redécou vre l’art et la \n",
      "culture grecque et romaine  d’abord en Italie  puis dans \n",
      "toute l’Europe. C’est la Renaissance.  \n",
      " \n",
      "*Des intellectuels et des artistes comme Léonard de Vinci  sont \n",
      "curieux de tout.  \n",
      "*Ils admirent l’Homme  et pensent que l’instruction permettra d e \n",
      "l’améliorer et le rendra heureux.   \n",
      " \n",
      "*Les découvertes scientifiques sont également nombreuses . Ainsi\n",
      "\n",
      " Embedding (taille 384):\n",
      "[ 0.003  0.014  0.031 -0.021 -0.083  0.039  0.007  0.008 -0.034 -0.007]\n",
      "============================================================\n",
      "============================================================\n",
      "Chunk 16:\n",
      "le Polonais Copernic en 1543 affirme que la Terre tourne autour du \n",
      "Soleil.  Mais les savants s’opposent souvent aux religions. \n",
      " \n",
      " \n",
      " \n",
      " \n",
      "14) François Ier, roi de la Renaissance française \n",
      " \n",
      "*François Ier est un roi puissant qui fait respecter la \n",
      "monarchie.  \n",
      "*Le français devient la langue officielle.  \n",
      " \n",
      "*En faisant la guerre en Italie , il découvre et admire la \n",
      "Renaissance. Il fait venir des artistes italiens comme Léonard de \n",
      "Vinci en France.\n",
      "\n",
      " Embedding (taille 384):\n",
      "[-0.003  0.026  0.023 -0.041 -0.017  0.008  0.022  0.045  0.029  0.014]\n",
      "============================================================\n",
      "============================================================\n",
      "Chunk 17:\n",
      "Vinci en France.  \n",
      " \n",
      "*Il emmène sa cour  dans de somptueux châteaux  (Chambord, \n",
      "Amboise, le Louvre…). Les châteaux se transforment et deviennent \n",
      "plus lumineux et confortables. \n",
      " \n",
      "*Monarchie : pays dirigé par un roi.  \n",
      "*Cour : ensemble des personnes qui entourent le roi.\n",
      "15) Henri IV et les réformes religieuses  \n",
      "du XVIème siècle :  \n",
      " \n",
      "*Au XVIème siècle, certains chrétiens protestent contre \n",
      "les abus de l’Eglise catholique qui pense surtout à \n",
      "s’enrichir. Ainsi Martin Luther créé une nouvelle\n",
      "\n",
      " Embedding (taille 384):\n",
      "[ 0.02   0.03   0.013 -0.046  0.011  0.053 -0.021  0.053 -0.002  0.009]\n",
      "============================================================\n",
      "============================================================\n",
      "Chunk 18:\n",
      "religion : le protestantisme.  \n",
      " \n",
      "*Protestants et Catholiques s’affrontent dans des guerres de religion \n",
      "qui font de nombreuses victimes.  \n",
      " \n",
      "*Henri IV y met fin en signant « l’Edit de Nantes » qui autorise les \n",
      "protestants à vivre selon leur religion. Mais le roi meurt assassiné.  \n",
      " \n",
      "*Edit : Loi imposée par un roi \n",
      " \n",
      " \n",
      " \n",
      " \n",
      "16) Louis XIV et la monarchie absolue \n",
      " \n",
      "*De 1661 à 1715, Louis XIV dirige seul la France. Son \n",
      "pouvoir lui vient directement de Dieu : C’est la \n",
      "monarchie absolue.\n",
      "\n",
      " Embedding (taille 384):\n",
      "[ 0.049  0.069 -0.016 -0.019  0.03   0.051 -0.079  0.025  0.093  0.006]\n",
      "============================================================\n",
      "============================================================\n",
      "Chunk 19:\n",
      "monarchie absolue.  \n",
      " \n",
      "*Il protège et encourage les artistes (Molière, La Fontaine…) et les \n",
      "savants. Il met en scène tous les moments de sa vie : c’est le Roi-Soleil. \n",
      " \n",
      "*Mais le roi dépense beaucoup d’argent (Versailles, guerres…) et les \n",
      "paysans souffrent de famines et d’épidémies. \n",
      " \n",
      "*Monarchie absolue : n.f. Pays dirigé par un roi qui a presque tous les \n",
      "pouvoirs\n",
      "17) La société d’Ancien Régime  \n",
      "(XVIIème et XVIIIème siècles)  \n",
      " \n",
      "*A cette époque, la France est divisée en trois ordres :\n",
      "\n",
      " Embedding (taille 384):\n",
      "[-0.021  0.022 -0.037 -0.017  0.004  0.068 -0.001  0.04   0.001  0.018]\n",
      "============================================================\n",
      "============================================================\n",
      "Chunk 20:\n",
      "le clergé, la noblesse et le Tiers Etat.  \n",
      " \n",
      "*Les deux premiers sont des privilégiés mais le Tiers \n",
      "Etat est le seul à payer l’impôt le plus lourd : la taille. \n",
      "Les Français sont de plus en plus mécontents de ces \n",
      "injustices.  \n",
      " \n",
      "*Au XVIIIème siècle les philosophes des Lumières (Voltaire …) \n",
      "critiquent la monarchie absolue, l’intolérance et les injustices. \n",
      " \n",
      "*privilège : avantage que quelqu’un a sur quelqu’un d’autre \n",
      " \n",
      " \n",
      " \n",
      " \n",
      " \n",
      " \n",
      "18) Esclavage et grand commerce au XVIIIème siècle\n",
      "\n",
      " Embedding (taille 384):\n",
      "[-0.075  0.041  0.019 -0.083 -0.028  0.062  0.026  0.106 -0.009  0.033]\n",
      "============================================================\n",
      "============================================================\n",
      "Chunk 21:\n",
      "*En Amérique, les Européens manquent de main \n",
      "d’œuvre pour travailler dans leurs exploitations.  \n",
      " \n",
      "*Ils décident alors d’utiliser des esclaves noirs  qu’ils font venir \n",
      "d’Afrique. Ils les déposent en Amérique pour qu’ils travaillent dans \n",
      "leurs plantations  et ramènent des marchandises ( sucre, café…) en \n",
      "Europe.  \n",
      " \n",
      "*La vie des esclaves est  très difficile  mais l’esclavage se poursuit \n",
      "jusqu’au XIXème siècle malgré les protestations de quelques prêtres \n",
      "et écrivains.\n",
      "\n",
      " Embedding (taille 384):\n",
      "[ 0.047  0.069 -0.053 -0.087 -0.022  0.001  0.004  0.016  0.013 -0.014]\n",
      "============================================================\n",
      "============================================================\n",
      "Chunk 22:\n",
      "et écrivains.\n",
      "19) Les débuts de la Révolution (1789-1792) \n",
      " \n",
      "*En 1789 , le peuple se révolte contre le roi et les \n",
      "privilèges : c’est la Révolution Française . Le 14 juillet , le peuple \n",
      "s’empare de la Bastille.  \n",
      " \n",
      "*Le clergé et les nobles ont p eur des révoltes des paysans. En août, \n",
      "l’assemblée supprime les privilèges et adopte la Déclaration des \n",
      "droits de l’homme et du citoyen.    \n",
      "*Article 1 : Les hommes naissent libres et égaux en droits.\n",
      "\n",
      " Embedding (taille 384):\n",
      "[-0.065  0.038  0.025 -0.11  -0.05   0.049  0.019  0.069 -0.037  0.044]\n",
      "============================================================\n",
      "============================================================\n",
      "Chunk 23:\n",
      "*privilège : avantage que quelqu’un a sur quelqu’un d’autre. \n",
      " \n",
      " \n",
      " \n",
      " \n",
      "20) La Révolution Française \n",
      " \n",
      "*Une constitution est votée. Mais le roi, Louis XVI, perd la \n",
      "confiance du peuple et est guillotiné.  \n",
      " \n",
      "*En 1792, la première République  est proclamée. Mais la révolution \n",
      "est menacée de toutes parts. La Terreur  est alors décl arée et tous les \n",
      "suspects sont guillotinés. Mais les Français refusent cette violence et un \n",
      "autre gouvernement est mis en place.\n",
      "\n",
      " Embedding (taille 384):\n",
      "[-0.013  0.037 -0.065 -0.091  0.022  0.044  0.011  0.058 -0.005  0.021]\n",
      "============================================================\n",
      "============================================================\n",
      "Chunk 24:\n",
      "autre gouvernement est mis en place.  \n",
      " \n",
      "*Il sera renversé par Napoléon le 18 brumaire.   \n",
      " \n",
      "  *Constitution : texte qui précise comment un pays est dirigé.\n",
      "21) Le Consulat et l’Empire (1799-1815) \n",
      " \n",
      "*Le général Bonaparte remporte de nombreuses victoires \n",
      "militaires, comme Austerlitz.  \n",
      " \n",
      "*Il  adopte une nouvelle constitution qui lui donne tous les \n",
      "pouvoirs.  \n",
      " \n",
      "*Il crée les départements dirigés par un préfet, la banque de France, \n",
      "les lycées…\n",
      "\n",
      " Embedding (taille 384):\n",
      "[-0.056  0.08   0.056 -0.123 -0.037  0.082  0.034  0.132 -0.074  0.034]\n",
      "============================================================\n",
      "============================================================\n",
      "Chunk 25:\n",
      "les lycées…  \n",
      " \n",
      "*Il se fait sacrer empereur le 2 décembre 1804  à Notre  Dame de \n",
      "Paris. Il devient alors Napoléon Ier. \n",
      " \n",
      " \n",
      " \n",
      " \n",
      "22) Les guerres de la Révolution et de l’Empire \n",
      "(1792-1815)  \n",
      " \n",
      "*En raison des nombreu ses et terribles guerres  de la \n",
      "Révolution et de l’Empire, la France a conquis une grande partie de \n",
      "l’Europe. Mais les autres pays européens finissent par gagner contre \n",
      "la France épuisée par des guerres incessantes.\n",
      "\n",
      " Embedding (taille 384):\n",
      "[-0.022 -0.013  0.055 -0.112  0.012  0.047 -0.054  0.047  0.022  0.053]\n",
      "============================================================\n",
      "============================================================\n",
      "Chunk 26:\n",
      "*Napoléon perd la bataille de Waterloo contre les Anglais et abdique \n",
      "définitivement en 1815.    \n",
      " \n",
      "*Abdiquer : renoncer au pouvoir\n",
      "22) Les apports de la Révolution et de l’Empire \n",
      " \n",
      " La Révolution et l’Empire ont permis de créer une \n",
      "administration efficace.  \n",
      " \n",
      " Les Français sont des citoyens avec des droits et des devoirs.  \n",
      " \n",
      " Les lois sont réunies dans le code civil  et les juges deviennent \n",
      "indépendants.  \n",
      " \n",
      " Chacun est libre de choisir sa religion.\n",
      "\n",
      " Embedding (taille 384):\n",
      "[-0.062 -0.006 -0.044 -0.118 -0.013  0.049  0.033  0.027  0.01  -0.012]\n",
      "============================================================\n",
      "============================================================\n",
      "Chunk 27:\n",
      " Chacun est libre de choisir sa religion.  \n",
      " \n",
      " Des symboles réunissent les Français :  \n",
      "*  la Marseillaise,  \n",
      "* le drapeau,  \n",
      "* une devise : « Liberté,  Egalité, Fraternité »,  \n",
      "*  une fête : le 14 juillet.\n",
      "\n",
      " Embedding (taille 384):\n",
      "[-0.033  0.017 -0.094  0.008  0.028  0.031  0.109 -0.011  0.104 -0.042]\n",
      "============================================================\n"
     ]
    }
   ],
   "source": [
    "# Charger le modèle d'embeddings ici avec SentenceTransformer\n",
    "model = SentenceTransformer('all-MiniLM-L6-v2')\n",
    "\n",
    "# Générer les embeddings\n",
    "embeddings = model.encode(chunks)\n",
    "\n",
    "# Taille des embeddings\n",
    "print(\"Taille des embeddings : \", embeddings.shape)\n",
    "\n",
    "# Affichage clair\n",
    "for i, (chunk, emb) in enumerate(zip(chunks, embeddings)):\n",
    "    print(\"=\"*60)\n",
    "    print(f\"Chunk {i+1}:\")\n",
    "    print(chunk)\n",
    "    print(f\"\\n Embedding (taille {len(emb)}):\")\n",
    "    print(np.round(emb[:10], 3))  # Affiche les 10 premières valeurs, arrondies pour lisibilité\n",
    "    print(\"=\"*60)"
   ]
  },
  {
   "cell_type": "markdown",
   "id": "3709cda4",
   "metadata": {},
   "source": [
    "# FAISS VectorDB"
   ]
  },
  {
   "cell_type": "markdown",
   "id": "35b102ae",
   "metadata": {},
   "source": [
    "IndexFlat2 calcule la distance euclidienne entre des vecteurs. "
   ]
  },
  {
   "cell_type": "code",
   "execution_count": 41,
   "id": "ab7afa3a",
   "metadata": {},
   "outputs": [
    {
     "name": "stdout",
     "output_type": "stream",
     "text": [
      "Index FAISS créé avec 27 vecteurs.\n"
     ]
    }
   ],
   "source": [
    "# Création de l'index FAISS\n",
    "dim = embeddings.shape[1]  # 384 pour MiniLM\n",
    "index = faiss.IndexFlatL2(dim)  # Index basé sur la distance euclidienne\n",
    "index.add(np.array(embeddings))  # Ajout des vecteurs\n",
    "\n",
    "print(\"Index FAISS créé avec\", index.ntotal, \"vecteurs.\")\n"
   ]
  },
  {
   "cell_type": "markdown",
   "id": "41ccc11f",
   "metadata": {},
   "source": [
    "### Test : récupérer les N chunks les plus similaires à la requête"
   ]
  },
  {
   "cell_type": "markdown",
   "id": "0272adf0",
   "metadata": {},
   "source": [
    "cf https://lajavaness.medium.com/indexation-et-recherche-avec-faiss-c7675c42abb9\n",
    "\n",
    "On effectue une recherche avec index.search(xq, k) avec\n",
    "\n",
    "* xq notre requête. Il peut s’agir d’un seul vecteur ou d’un array de plusieurs vecteurs.\n",
    "* k est le nombre de résultats par vecteur à renvoyer.\n",
    "\n",
    "La méthode search() renvoie deux objets :\n",
    "\n",
    "* le résultat de notre recherche : une matrice I de taille (n, k) où n est le nombre de vecteurs dans notre requête. La i-ème ligne contient les indices des k vecteurs les plus proches du i-ème vecteur de la requête.\n",
    "\n",
    "* une matrice D des distances, de taille (n, k) également, où la i-ème ligne contient les distances (au carré) des k vecteurs les plus proches du i-ème vecteur de la requête."
   ]
  },
  {
   "cell_type": "code",
   "execution_count": 42,
   "id": "21769eaa",
   "metadata": {},
   "outputs": [
    {
     "name": "stdout",
     "output_type": "stream",
     "text": [
      "Résultat de la requête : où se situe la Gaule ?\n",
      "Top match (indice FAISS): 3, Distance: 0.825\n",
      "Matrice I : [[3]]\n",
      "Chunk retrouvé : surtout des rennes dont il utilise tous les éléments. (La peau pour les \n",
      "vêtements ou les cabanes, la graisse pour les lampes, les dents en \n",
      "collier…) \n",
      " \n",
      "*C’est un artisan capable de fabriquer de nombreux outils en \n",
      "taillant des pierres ou de l’os.  \n",
      " \n",
      "*Nomade : adj : qui ne vit pas toujours au même endroit.  \n",
      " \n",
      " \n",
      " \n",
      " \n",
      " \n",
      "4) Qui sont les Gaulois ? \n",
      " \n",
      "*On parle des Gaulois à partir de 600 ans avant JC.  \n",
      "*La Gaule est constituée de nombreux peuples qui se \n",
      "font souvent la guerre.\n"
     ]
    }
   ],
   "source": [
    "#  Requête exemple (simule un utilisateur)\n",
    "query = \"où se situe la Gaule ?\"\n",
    "query_embedding = model.encode([query])\n",
    "\n",
    "# Recherche du chunk le plus similaire (k=1)\n",
    "D, I = index.search(query_embedding, k=1)\n",
    "\n",
    "print(\"Résultat de la requête :\", query)\n",
    "print(f\"Top match (indice FAISS): {I[0][0]}, Distance: {D[0][0]:.3f}\")\n",
    "print(f\"Matrice I : {I}\")\n",
    "print(\"Chunk retrouvé :\", chunks[I[0][0]])\n"
   ]
  },
  {
   "cell_type": "code",
   "execution_count": 45,
   "id": "717106a4",
   "metadata": {},
   "outputs": [
    {
     "name": "stdout",
     "output_type": "stream",
     "text": [
      "Résultat de la requête : où se situe la Gaule ?\n",
      "Top match (indice FAISS): 3, Distance: 0.825\n",
      "\n",
      "Matrice I : [[3 6]]\n",
      "\n",
      "\n",
      "[3 6]\n",
      "<class 'numpy.ndarray'>\n",
      "[3, 6]\n",
      "Chunks retrouvés :\n",
      "index : 3 \n",
      " surtout des rennes dont il utilise tous les éléments. (La peau pour les \n",
      "vêtements ou les cabanes, la graisse pour les lampes, les dents en \n",
      "collier…) \n",
      " \n",
      "*C’est un artisan capable de fabriquer de nombreux outils en \n",
      "taillant des pierres ou de l’os.  \n",
      " \n",
      "*Nomade : adj : qui ne vit pas toujours au même endroit.  \n",
      " \n",
      " \n",
      " \n",
      " \n",
      " \n",
      "4) Qui sont les Gaulois ? \n",
      " \n",
      "*On parle des Gaulois à partir de 600 ans avant JC.  \n",
      "*La Gaule est constituée de nombreux peuples qui se \n",
      "font souvent la guerre.\n",
      "------\n",
      "index : 6 \n",
      " peuples venus de l’est . Ils s’ installent en Gaule et \n",
      "l’empire romain disparaît  en 476 . C’est la fin de \n",
      "l’Antiquité et le début du Moyen Âge. \n",
      " \n",
      "*Les Francs, emmenés par Clovis conquièrent une grande partie de la \n",
      "Gaule. Clovis devient chrétien en se faisant baptiser en 496.\n",
      "7) Charlemagne et les Carolingiens \n",
      " \n",
      "*Charlemagne est un grand guerrier  qui réussit à \n",
      "conquérir un vaste territoire. Le pape le couronne \n",
      "empereur en l’an 800.\n",
      "------\n"
     ]
    }
   ],
   "source": [
    "# Recherche des deux chunks les plus similaires (k=2)\n",
    "D, I = index.search(query_embedding, k=2)\n",
    "\n",
    "print(\"Résultat de la requête :\", query)\n",
    "print(f\"Top match (indice FAISS): {I[0][0]}, Distance: {D[0][0]:.3f}\\n\")\n",
    "print(f\"Matrice I : {I}\")\n",
    "print(\"\\n\")\n",
    "print(I[0]) # numpy array\n",
    "print(type(I[0]))\n",
    "print(I[0].tolist())\n",
    "print(\"Chunks retrouvés :\")\n",
    "for x in I[0].tolist():\n",
    "    print(\"index :\", x, \"\\n\", chunks[x])\n",
    "    print(\"------\")\n"
   ]
  },
  {
   "cell_type": "markdown",
   "id": "7a536d00",
   "metadata": {},
   "source": [
    "### Test à partir de chunks sous la forme de \"Langchain documents\""
   ]
  },
  {
   "cell_type": "code",
   "execution_count": 46,
   "id": "4de55176",
   "metadata": {},
   "outputs": [],
   "source": [
    "# Charger le modèle embedding avec Langchain\n",
    "embedding_model = HuggingFaceEmbeddings(model_name=\"all-MiniLM-L6-v2\")\n",
    "\n",
    "documents = [Document(page_content=chunk, metadata={\"chunk_id\": i}) for i, chunk in enumerate(chunks)]\n",
    "\n"
   ]
  },
  {
   "cell_type": "code",
   "execution_count": 47,
   "id": "af190229",
   "metadata": {},
   "outputs": [
    {
     "data": {
      "text/plain": [
       "[Document(metadata={'chunk_id': 0}, page_content='LLeeççoonnss  dd’’hhiissttooiirree    CCMM11  \\n \\n \\n1)  Qu’est-ce que l’Histoire ? \\n \\n*L’Histoire est l’étude de notre passé  pour mieux \\ncomprendre notre vie aujourd’hui. \\n \\n *Pour découvrir notre passé, les historiens font des fouilles \\narchéologiques, étudient des objets, des documents, des récits…  \\n*Ils représentent le temps par une ligne graduée  : c’est la frise \\nchronologique.  \\n \\n*Avant l’invention de l’écriture, c’est la Préhistoire , ensuite vient \\nl’Histoire.'),\n",
       " Document(metadata={'chunk_id': 1}, page_content='l’Histoire.  \\n*L’Histoire de France est divisée en 5 périodes : \\nl’Antiquité – le Moyen Âge – les Temps Modernes – le XIX ème \\nsiècle – le XXème siècle. \\n \\n \\n \\n \\n2) Des traces du passé : les grottes ornées \\n \\n*En 1940, 4 enfants découvrent une grotte recouverte \\nde peintures  : des taureaux, des cerfs, des chevaux…  : \\nla grotte de Lascaux.  En datant les objets trouvés dans la grotte on \\nsait qu’elle a été peinte il y a environ 17000 ans.'),\n",
       " Document(metadata={'chunk_id': 2}, page_content='*En 1994, Jean -Marie Chauvet découvre une autre grotte peinte il y \\na 36000 ans : la grotte Chauvet.  \\n \\n*Les hommes ont utilisés des techniques variées pour représenter des \\nanimaux.  \\n*Les hommes préhistoriques ont inventé l’art.\\n3) Comment vivaient les hommes qui ont peint la \\ngrotte de Lascaux ? \\n \\n*L’homme moderne apparaît il y a 40 000 ans. On l’appelle Homo \\nsapiens. Il est nomade et vit de la cueillette et de la chasse. Il chasse'),\n",
       " Document(metadata={'chunk_id': 3}, page_content='surtout des rennes dont il utilise tous les éléments. (La peau pour les \\nvêtements ou les cabanes, la graisse pour les lampes, les dents en \\ncollier…) \\n \\n*C’est un artisan capable de fabriquer de nombreux outils en \\ntaillant des pierres ou de l’os.  \\n \\n*Nomade : adj : qui ne vit pas toujours au même endroit.  \\n \\n \\n \\n \\n \\n4) Qui sont les Gaulois ? \\n \\n*On parle des Gaulois à partir de 600 ans avant JC.  \\n*La Gaule est constituée de nombreux peuples qui se \\nfont souvent la guerre.'),\n",
       " Document(metadata={'chunk_id': 4}, page_content='font souvent la guerre.  \\n \\n*Ils vivent dans des fermes  regroupées en village. Ce sont des \\nagriculteurs, des éleveurs , pour cela ils déboisent pour former des \\nchamps qui sont encore présents aujourd’hui.  \\n \\n*Ce sont également des artisans  habiles qui créent des outils et \\ninventent le tonneau, la roue, le savon, la charrue attelée, la faux…\\n5) Qui sont les Gallo-Romains ? \\n \\n*Les Romains, emmenés par Jules César, ont envahi \\nla Gaule en l’an 52 av. JC . Les Gaulois deviennent'),\n",
       " Document(metadata={'chunk_id': 5}, page_content='les Gallo-Romains et vivent en paix.  \\n \\n*Ils construisent de nombreux bâtiments ( voie romaine, aqueduc, \\ntemple, théâtre, arène…) et créent de nombreuses villes.  \\n \\n*Une nouvelle religion, le chris tianisme, apparaî t. Les chrétiens \\ncroient que Jésus est le fils de Dieu. Les chrétiens sont d’abord \\npersécutés puis cette religion se répand dans tout l’empire romain.  \\n \\n \\n \\n \\n \\n6) Que devient la Gaule romaine ? \\n \\n*Au Vème siècle, l’empire romain est envahi par des'),\n",
       " Document(metadata={'chunk_id': 6}, page_content='peuples venus de l’est . Ils s’ installent en Gaule et \\nl’empire romain disparaît  en 476 . C’est la fin de \\nl’Antiquité et le début du Moyen Âge. \\n \\n*Les Francs, emmenés par Clovis conquièrent une grande partie de la \\nGaule. Clovis devient chrétien en se faisant baptiser en 496.\\n7) Charlemagne et les Carolingiens \\n \\n*Charlemagne est un grand guerrier  qui réussit à \\nconquérir un vaste territoire. Le pape le couronne \\nempereur en l’an 800.'),\n",
       " Document(metadata={'chunk_id': 7}, page_content='empereur en l’an 800.  \\n \\n*A sa mort, l’empire est divisé entre ses trois fils qui perdent \\nrapidement leurs pouvoirs.  \\n \\n*Ils ne peuvent résister aux invasions des Vikings venus du nord . \\nCeux-ci remontent les fleuves sur leurs drakkars pour piller les villes \\net capturer des esclaves. Ils s’installeront en Normandie.  \\n \\n \\n \\n \\n8) Seigneurs et paysans au Moyen Âge \\n \\n*Les seigneurs et leurs familles habitent dans un \\nchâteau. Les châteaux sont des forteresses en pierre  de mieux en'),\n",
       " Document(metadata={'chunk_id': 8}, page_content='mieux équipées pour se défendre contre les ennemis.  \\n \\n*Pour l’aider à protéger le château, le seigneur s’entoure de \\nchevaliers.  \\n \\n*Mais a u Moyen Âge, 9 personnes sur 10 sont des paysans . \\nComme les terres ne leur appartiennent pas, ils doivent payer des \\nimpôts et travailler gratuitement pour le seigneur.\\n9) L’Eglise au Moyen Âge \\n \\n*Les hommes du Moyen Âge sont  chrétiens et  très \\ncroyants. Leur vie est rythmée par les fêtes et les'),\n",
       " Document(metadata={'chunk_id': 9}, page_content='sacrements religieux (baptême, mariage, confirmation…) \\nLe clergé aide aussi les malades et fait souvent l’école.  \\n \\n*Les moines  recopient les livres  (souvent la bible)  à la main . \\nMais, en 1450, Gutenberg invente le caractère mobile en métal qui \\npermet d’imprimer des livres en beaucoup plus grande quantité.  \\nCette invention marque la fin du Moyen Age et le début des \\nTemps Modernes.  \\n \\n*Le clergé  : ensemble des religieux. (les curés, les évêques, les \\nmoines, les religieuses…)'),\n",
       " Document(metadata={'chunk_id': 10}, page_content='moines, les religieuses…)  \\n*La bible : ensemble des textes sacrés des juifs et des chrétiens \\n \\n \\n \\n10) Musulmans et chrétiens en Méditerranée \\n \\n*Au début du VIIème siècle, en Arabie, Mahomet crée une \\nnouvelle religion avec un dieu unique  : l’islam. Les \\nmusulmans pensent que le Coran contient la parole de Dieu.  \\n \\n*Ils envahissent une grande partie de la Méditerranée.  \\n* Les chrétiens organisent des croisades  pour reprendre les lieux'),\n",
       " Document(metadata={'chunk_id': 11}, page_content='saints (Jérusalem).  Mais ils sont mal équipés et les croisades se \\ntermineront souvent par des échecs. \\n \\n* Des produits  (or, ivoire, escl aves, bois, épices, bijoux, armes, \\nsoie…) mais aussi des techniques, des savoirs  (médecine, \\nmathématiques, …) ont été échangés entre les musulmans et les \\nchrétiens.\\n11) Louis IX et les Capétiens \\n \\n*En 987, Hugues Capet, roi de France, fonde la dynastie \\ndes Capétiens qui dirigera la France jusqu’en 1789. Mais'),\n",
       " Document(metadata={'chunk_id': 12}, page_content='il n’est à la tête que d’un tout petit territoire.  \\n \\n*Progressivement celui -ci s’agrandit grâce à des rois \\ncomme Louis IX . Celui -ci veut faire appli quer une vraie justice  et \\nessaye de vivre comme un bon chrétien . Après sa mort lors de la \\nVIIIème croisade,  il deviendra Saint Louis.  \\n  \\n*Capétien: roi de la famille de Hugues Capet  \\n \\n \\n \\n \\n \\n12) Les Européens à la conquête du monde \\n \\n*A partir du XV ème siècle les Européens partent à la'),\n",
       " Document(metadata={'chunk_id': 13}, page_content='conquête de nouveaux territoires pour y chercher de l’or, \\ndes épices et pour répandre la religion chrétienne.  \\n \\n*En 1492 , Christophe Colomb , au service du roi d’Espagne , \\ndécouvre l’Amérique.  \\n*Magellan prouve que la Terre est ronde en faisant le tour du \\nmonde.  \\n*Des Français emmenés par Jacques Cartier s’installent au Canada.  \\n \\n*Mais les Européens exploitent les nouvelles terres par la violence \\net l’esclavage.\\n13) La Renaissance'),\n",
       " Document(metadata={'chunk_id': 14}, page_content='et l’esclavage.\\n13) La Renaissance \\n \\n*Au XV ème et XVI ème siècles, on redécou vre l’art et la \\nculture grecque et romaine  d’abord en Italie  puis dans \\ntoute l’Europe. C’est la Renaissance.  \\n \\n*Des intellectuels et des artistes comme Léonard de Vinci  sont \\ncurieux de tout.  \\n*Ils admirent l’Homme  et pensent que l’instruction permettra d e \\nl’améliorer et le rendra heureux.   \\n \\n*Les découvertes scientifiques sont également nombreuses . Ainsi'),\n",
       " Document(metadata={'chunk_id': 15}, page_content='le Polonais Copernic en 1543 affirme que la Terre tourne autour du \\nSoleil.  Mais les savants s’opposent souvent aux religions. \\n \\n \\n \\n \\n14) François Ier, roi de la Renaissance française \\n \\n*François Ier est un roi puissant qui fait respecter la \\nmonarchie.  \\n*Le français devient la langue officielle.  \\n \\n*En faisant la guerre en Italie , il découvre et admire la \\nRenaissance. Il fait venir des artistes italiens comme Léonard de \\nVinci en France.'),\n",
       " Document(metadata={'chunk_id': 16}, page_content='Vinci en France.  \\n \\n*Il emmène sa cour  dans de somptueux châteaux  (Chambord, \\nAmboise, le Louvre…). Les châteaux se transforment et deviennent \\nplus lumineux et confortables. \\n \\n*Monarchie : pays dirigé par un roi.  \\n*Cour : ensemble des personnes qui entourent le roi.\\n15) Henri IV et les réformes religieuses  \\ndu XVIème siècle :  \\n \\n*Au XVIème siècle, certains chrétiens protestent contre \\nles abus de l’Eglise catholique qui pense surtout à \\ns’enrichir. Ainsi Martin Luther créé une nouvelle'),\n",
       " Document(metadata={'chunk_id': 17}, page_content='religion : le protestantisme.  \\n \\n*Protestants et Catholiques s’affrontent dans des guerres de religion \\nqui font de nombreuses victimes.  \\n \\n*Henri IV y met fin en signant « l’Edit de Nantes » qui autorise les \\nprotestants à vivre selon leur religion. Mais le roi meurt assassiné.  \\n \\n*Edit : Loi imposée par un roi \\n \\n \\n \\n \\n16) Louis XIV et la monarchie absolue \\n \\n*De 1661 à 1715, Louis XIV dirige seul la France. Son \\npouvoir lui vient directement de Dieu : C’est la \\nmonarchie absolue.'),\n",
       " Document(metadata={'chunk_id': 18}, page_content='monarchie absolue.  \\n \\n*Il protège et encourage les artistes (Molière, La Fontaine…) et les \\nsavants. Il met en scène tous les moments de sa vie : c’est le Roi-Soleil. \\n \\n*Mais le roi dépense beaucoup d’argent (Versailles, guerres…) et les \\npaysans souffrent de famines et d’épidémies. \\n \\n*Monarchie absolue : n.f. Pays dirigé par un roi qui a presque tous les \\npouvoirs\\n17) La société d’Ancien Régime  \\n(XVIIème et XVIIIème siècles)  \\n \\n*A cette époque, la France est divisée en trois ordres :'),\n",
       " Document(metadata={'chunk_id': 19}, page_content='le clergé, la noblesse et le Tiers Etat.  \\n \\n*Les deux premiers sont des privilégiés mais le Tiers \\nEtat est le seul à payer l’impôt le plus lourd : la taille. \\nLes Français sont de plus en plus mécontents de ces \\ninjustices.  \\n \\n*Au XVIIIème siècle les philosophes des Lumières (Voltaire …) \\ncritiquent la monarchie absolue, l’intolérance et les injustices. \\n \\n*privilège : avantage que quelqu’un a sur quelqu’un d’autre \\n \\n \\n \\n \\n \\n \\n18) Esclavage et grand commerce au XVIIIème siècle'),\n",
       " Document(metadata={'chunk_id': 20}, page_content='*En Amérique, les Européens manquent de main \\nd’œuvre pour travailler dans leurs exploitations.  \\n \\n*Ils décident alors d’utiliser des esclaves noirs  qu’ils font venir \\nd’Afrique. Ils les déposent en Amérique pour qu’ils travaillent dans \\nleurs plantations  et ramènent des marchandises ( sucre, café…) en \\nEurope.  \\n \\n*La vie des esclaves est  très difficile  mais l’esclavage se poursuit \\njusqu’au XIXème siècle malgré les protestations de quelques prêtres \\net écrivains.'),\n",
       " Document(metadata={'chunk_id': 21}, page_content='et écrivains.\\n19) Les débuts de la Révolution (1789-1792) \\n \\n*En 1789 , le peuple se révolte contre le roi et les \\nprivilèges : c’est la Révolution Française . Le 14 juillet , le peuple \\ns’empare de la Bastille.  \\n \\n*Le clergé et les nobles ont p eur des révoltes des paysans. En août, \\nl’assemblée supprime les privilèges et adopte la Déclaration des \\ndroits de l’homme et du citoyen.    \\n*Article 1 : Les hommes naissent libres et égaux en droits.'),\n",
       " Document(metadata={'chunk_id': 22}, page_content='*privilège : avantage que quelqu’un a sur quelqu’un d’autre. \\n \\n \\n \\n \\n20) La Révolution Française \\n \\n*Une constitution est votée. Mais le roi, Louis XVI, perd la \\nconfiance du peuple et est guillotiné.  \\n \\n*En 1792, la première République  est proclamée. Mais la révolution \\nest menacée de toutes parts. La Terreur  est alors décl arée et tous les \\nsuspects sont guillotinés. Mais les Français refusent cette violence et un \\nautre gouvernement est mis en place.'),\n",
       " Document(metadata={'chunk_id': 23}, page_content='autre gouvernement est mis en place.  \\n \\n*Il sera renversé par Napoléon le 18 brumaire.   \\n \\n  *Constitution : texte qui précise comment un pays est dirigé.\\n21) Le Consulat et l’Empire (1799-1815) \\n \\n*Le général Bonaparte remporte de nombreuses victoires \\nmilitaires, comme Austerlitz.  \\n \\n*Il  adopte une nouvelle constitution qui lui donne tous les \\npouvoirs.  \\n \\n*Il crée les départements dirigés par un préfet, la banque de France, \\nles lycées…'),\n",
       " Document(metadata={'chunk_id': 24}, page_content='les lycées…  \\n \\n*Il se fait sacrer empereur le 2 décembre 1804  à Notre  Dame de \\nParis. Il devient alors Napoléon Ier. \\n \\n \\n \\n \\n22) Les guerres de la Révolution et de l’Empire \\n(1792-1815)  \\n \\n*En raison des nombreu ses et terribles guerres  de la \\nRévolution et de l’Empire, la France a conquis une grande partie de \\nl’Europe. Mais les autres pays européens finissent par gagner contre \\nla France épuisée par des guerres incessantes.'),\n",
       " Document(metadata={'chunk_id': 25}, page_content='*Napoléon perd la bataille de Waterloo contre les Anglais et abdique \\ndéfinitivement en 1815.    \\n \\n*Abdiquer : renoncer au pouvoir\\n22) Les apports de la Révolution et de l’Empire \\n \\n\\uf0b7 La Révolution et l’Empire ont permis de créer une \\nadministration efficace.  \\n \\n\\uf0b7 Les Français sont des citoyens avec des droits et des devoirs.  \\n \\n\\uf0b7 Les lois sont réunies dans le code civil  et les juges deviennent \\nindépendants.  \\n \\n\\uf0b7 Chacun est libre de choisir sa religion.'),\n",
       " Document(metadata={'chunk_id': 26}, page_content='\\uf0b7 Chacun est libre de choisir sa religion.  \\n \\n\\uf0b7 Des symboles réunissent les Français :  \\n*  la Marseillaise,  \\n* le drapeau,  \\n* une devise : « Liberté,  Egalité, Fraternité »,  \\n*  une fête : le 14 juillet.')]"
      ]
     },
     "execution_count": 47,
     "metadata": {},
     "output_type": "execute_result"
    }
   ],
   "source": [
    "documents"
   ]
  },
  {
   "cell_type": "code",
   "execution_count": 48,
   "id": "dbe2e74e",
   "metadata": {},
   "outputs": [
    {
     "name": "stdout",
     "output_type": "stream",
     "text": [
      "taille de documents : 27\n"
     ]
    }
   ],
   "source": [
    "print(\"taille de documents :\", len(documents))"
   ]
  },
  {
   "cell_type": "code",
   "execution_count": 49,
   "id": "9c142908",
   "metadata": {},
   "outputs": [
    {
     "name": "stderr",
     "output_type": "stream",
     "text": [
      "/usr/local/lib/python3.11/site-packages/torch/nn/modules/module.py:1762: FutureWarning: `encoder_attention_mask` is deprecated and will be removed in version 4.55.0 for `BertSdpaSelfAttention.forward`.\n",
      "  return forward_call(*args, **kwargs)\n"
     ]
    }
   ],
   "source": [
    "# Création de l’index FAISS dans LangChain\n",
    "vectorstore = FAISS.from_documents(documents, embedding_model)"
   ]
  },
  {
   "cell_type": "code",
   "execution_count": 50,
   "id": "a13d313c",
   "metadata": {},
   "outputs": [
    {
     "data": {
      "text/plain": [
       "<langchain_community.vectorstores.faiss.FAISS at 0x70ed171d8a10>"
      ]
     },
     "execution_count": 50,
     "metadata": {},
     "output_type": "execute_result"
    }
   ],
   "source": [
    "vectorstore"
   ]
  },
  {
   "cell_type": "code",
   "execution_count": 51,
   "id": "06e06a51",
   "metadata": {},
   "outputs": [
    {
     "name": "stdout",
     "output_type": "stream",
     "text": [
      "Résultat le plus pertinent :\n",
      "autre gouvernement est mis en place.  \n",
      " \n",
      "*Il sera renversé par Napoléon le 18 brumaire.   \n",
      " \n",
      "  *Constitution : texte qui précise comment un pays est dirigé.\n",
      "21) Le Consulat et l’Empire (1799-1815) \n",
      " \n",
      "*Le général Bonaparte remporte de nombreuses victoires \n",
      "militaires, comme Austerlitz.  \n",
      " \n",
      "*Il  adopte une nouvelle constitution qui lui donne tous les \n",
      "pouvoirs.  \n",
      " \n",
      "*Il crée les départements dirigés par un préfet, la banque de France, \n",
      "les lycées…\n"
     ]
    }
   ],
   "source": [
    "# Test de recherche\n",
    "query = \"Qui est Napoléon ?\"\n",
    "results = vectorstore.similarity_search(query, k=1)\n",
    "\n",
    "print(\"Résultat le plus pertinent :\")\n",
    "print(results[0].page_content)"
   ]
  },
  {
   "cell_type": "markdown",
   "id": "3f003874",
   "metadata": {},
   "source": [
    "#### Autre façon de rechercher, en instanciant un \"retriever\"\n",
    "cf https://python.langchain.com/docs/how_to/vectorstore_retriever/\n",
    "\n",
    "* Il est possible de spécifier un \"search_type\" parmi les 3 modalités : 'similarity', 'similarity_score_threshold', 'mmr'. \n",
    "\n",
    "Par défaut (si aucun type_search n'est renseigné), c'est le \"similarity\" search qui est utilisé : It does this by finding the examples with the embeddings that have the greatest cosine similarity with the inputs.\n",
    "\n",
    "MMR = maximal marginal relevance. It selects examples based on a combination of which examples are most similar to the inputs, while also optimizing for diversity. It does this by finding the examples with the embeddings that have the greatest cosine similarity with the inputs, and then iteratively adding them while penalizing them for closeness to already selected examples.\n",
    "\n",
    "Similarity score threshold :  threshold documents output by the retriever by similarity score\n",
    "\n",
    "* On peut également spécifier des search_kwargs pour paramétrer le retriever (ex : nombre de résultats renvoyés)"
   ]
  },
  {
   "cell_type": "code",
   "execution_count": 60,
   "id": "bb7b6b95",
   "metadata": {},
   "outputs": [],
   "source": [
    "# Différentes façons de rechercher dans la VectorDB\n",
    "\n",
    "retrievers = {\n",
    "    \"retriever_similarity\": vectorstore.as_retriever(\n",
    "        search_type = \"similarity\",\n",
    "        #search_kwargs = {\"k\": 1},\n",
    "    ) ,\n",
    "    \"retriever_similarity_score_threshold\": vectorstore.as_retriever(\n",
    "        search_type = \"similarity_score_threshold\",\n",
    "        search_kwargs = {'score_threshold': 0.48},\n",
    "    ),\n",
    "    \"retriever_mmr\": vectorstore.as_retriever(\n",
    "        search_type = \"mmr\",\n",
    "    ) \n",
    "}"
   ]
  },
  {
   "cell_type": "code",
   "execution_count": 61,
   "id": "8aedcb71",
   "metadata": {},
   "outputs": [
    {
     "name": "stderr",
     "output_type": "stream",
     "text": [
      "/usr/local/lib/python3.11/site-packages/torch/nn/modules/module.py:1762: FutureWarning: `encoder_attention_mask` is deprecated and will be removed in version 4.55.0 for `BertSdpaSelfAttention.forward`.\n",
      "  return forward_call(*args, **kwargs)\n",
      "/usr/local/lib/python3.11/site-packages/torch/nn/modules/module.py:1762: FutureWarning: `encoder_attention_mask` is deprecated and will be removed in version 4.55.0 for `BertSdpaSelfAttention.forward`.\n",
      "  return forward_call(*args, **kwargs)\n",
      "No relevant docs were retrieved using the relevance score threshold 0.48\n"
     ]
    },
    {
     "name": "stdout",
     "output_type": "stream",
     "text": [
      "--- Résultats pour le type de recherche : retriever_similarity ---\n",
      "<class 'list'>\n",
      "4\n",
      "[Document(id='6affccb2-6576-4527-943c-d7de32758ab6', metadata={'chunk_id': 23}, page_content='autre gouvernement est mis en place.  \\n \\n*Il sera renversé par Napoléon le 18 brumaire.   \\n \\n  *Constitution : texte qui précise comment un pays est dirigé.\\n21) Le Consulat et l’Empire (1799-1815) \\n \\n*Le général Bonaparte remporte de nombreuses victoires \\nmilitaires, comme Austerlitz.  \\n \\n*Il  adopte une nouvelle constitution qui lui donne tous les \\npouvoirs.  \\n \\n*Il crée les départements dirigés par un préfet, la banque de France, \\nles lycées…'), Document(id='40bb782c-3551-460c-b30c-9379fe08b1a6', metadata={'chunk_id': 25}, page_content='*Napoléon perd la bataille de Waterloo contre les Anglais et abdique \\ndéfinitivement en 1815.    \\n \\n*Abdiquer : renoncer au pouvoir\\n22) Les apports de la Révolution et de l’Empire \\n \\n\\uf0b7 La Révolution et l’Empire ont permis de créer une \\nadministration efficace.  \\n \\n\\uf0b7 Les Français sont des citoyens avec des droits et des devoirs.  \\n \\n\\uf0b7 Les lois sont réunies dans le code civil  et les juges deviennent \\nindépendants.  \\n \\n\\uf0b7 Chacun est libre de choisir sa religion.'), Document(id='f725e4da-5dad-4218-be30-4ce8421db921', metadata={'chunk_id': 12}, page_content='il n’est à la tête que d’un tout petit territoire.  \\n \\n*Progressivement celui -ci s’agrandit grâce à des rois \\ncomme Louis IX . Celui -ci veut faire appli quer une vraie justice  et \\nessaye de vivre comme un bon chrétien . Après sa mort lors de la \\nVIIIème croisade,  il deviendra Saint Louis.  \\n  \\n*Capétien: roi de la famille de Hugues Capet  \\n \\n \\n \\n \\n \\n12) Les Européens à la conquête du monde \\n \\n*A partir du XV ème siècle les Européens partent à la'), Document(id='d31b0d7c-9182-4554-89d8-8b8382ecfe37', metadata={'chunk_id': 22}, page_content='*privilège : avantage que quelqu’un a sur quelqu’un d’autre. \\n \\n \\n \\n \\n20) La Révolution Française \\n \\n*Une constitution est votée. Mais le roi, Louis XVI, perd la \\nconfiance du peuple et est guillotiné.  \\n \\n*En 1792, la première République  est proclamée. Mais la révolution \\nest menacée de toutes parts. La Terreur  est alors décl arée et tous les \\nsuspects sont guillotinés. Mais les Français refusent cette violence et un \\nautre gouvernement est mis en place.')]\n",
      "============================================================\n",
      "--- Résultats pour le type de recherche : retriever_similarity_score_threshold ---\n",
      "<class 'list'>\n",
      "0\n",
      "[]\n",
      "============================================================\n",
      "--- Résultats pour le type de recherche : retriever_mmr ---\n",
      "<class 'list'>\n",
      "4\n",
      "[Document(id='6affccb2-6576-4527-943c-d7de32758ab6', metadata={'chunk_id': 23}, page_content='autre gouvernement est mis en place.  \\n \\n*Il sera renversé par Napoléon le 18 brumaire.   \\n \\n  *Constitution : texte qui précise comment un pays est dirigé.\\n21) Le Consulat et l’Empire (1799-1815) \\n \\n*Le général Bonaparte remporte de nombreuses victoires \\nmilitaires, comme Austerlitz.  \\n \\n*Il  adopte une nouvelle constitution qui lui donne tous les \\npouvoirs.  \\n \\n*Il crée les départements dirigés par un préfet, la banque de France, \\nles lycées…'), Document(id='575b938d-33ad-4959-8725-a62049cf5110', metadata={'chunk_id': 15}, page_content='le Polonais Copernic en 1543 affirme que la Terre tourne autour du \\nSoleil.  Mais les savants s’opposent souvent aux religions. \\n \\n \\n \\n \\n14) François Ier, roi de la Renaissance française \\n \\n*François Ier est un roi puissant qui fait respecter la \\nmonarchie.  \\n*Le français devient la langue officielle.  \\n \\n*En faisant la guerre en Italie , il découvre et admire la \\nRenaissance. Il fait venir des artistes italiens comme Léonard de \\nVinci en France.'), Document(id='6fac5428-d3cf-4943-a6d8-54ae91fbb326', metadata={'chunk_id': 8}, page_content='mieux équipées pour se défendre contre les ennemis.  \\n \\n*Pour l’aider à protéger le château, le seigneur s’entoure de \\nchevaliers.  \\n \\n*Mais a u Moyen Âge, 9 personnes sur 10 sont des paysans . \\nComme les terres ne leur appartiennent pas, ils doivent payer des \\nimpôts et travailler gratuitement pour le seigneur.\\n9) L’Eglise au Moyen Âge \\n \\n*Les hommes du Moyen Âge sont  chrétiens et  très \\ncroyants. Leur vie est rythmée par les fêtes et les'), Document(id='f725e4da-5dad-4218-be30-4ce8421db921', metadata={'chunk_id': 12}, page_content='il n’est à la tête que d’un tout petit territoire.  \\n \\n*Progressivement celui -ci s’agrandit grâce à des rois \\ncomme Louis IX . Celui -ci veut faire appli quer une vraie justice  et \\nessaye de vivre comme un bon chrétien . Après sa mort lors de la \\nVIIIème croisade,  il deviendra Saint Louis.  \\n  \\n*Capétien: roi de la famille de Hugues Capet  \\n \\n \\n \\n \\n \\n12) Les Européens à la conquête du monde \\n \\n*A partir du XV ème siècle les Européens partent à la')]\n",
      "============================================================\n"
     ]
    },
    {
     "name": "stderr",
     "output_type": "stream",
     "text": [
      "/usr/local/lib/python3.11/site-packages/torch/nn/modules/module.py:1762: FutureWarning: `encoder_attention_mask` is deprecated and will be removed in version 4.55.0 for `BertSdpaSelfAttention.forward`.\n",
      "  return forward_call(*args, **kwargs)\n"
     ]
    }
   ],
   "source": [
    "for name, retriever in retrievers.items():\n",
    "    print(\"--- Résultats pour le type de recherche :\", name, \"---\")\n",
    "    relevant_docs = retriever.invoke(\"Qui est Napoléon ?\")\n",
    "    print(type(relevant_docs))\n",
    "    print(len(relevant_docs))\n",
    "    print(relevant_docs)\n",
    "    print(\"=\"*60)"
   ]
  },
  {
   "cell_type": "markdown",
   "id": "3a43040c",
   "metadata": {},
   "source": [
    "Pour le similarity score threshold, il faut jouer sur le seuil (l'augmenter pour être plus restrictif). Dans l'exemple ci-dessus, si on spécifie un seuil de 30% de similarité, le nombre de chunks pertinents est de 4. Si on l'augmente à 35%, seuls deux documents sont pertinents. S'il est au-delà de 48% alors aucun document n'est considéré comme pertinent.\n",
    "\n",
    "Le MMR renvoie le 1er résultat identique aux deux autres méthodes, mais pas les suivants qui sont d'ailleurs éloignés du sujet de la question. Les trois résultats suivants parlent de François Ier, le Moyen-Âge, et Saint Louis !"
   ]
  },
  {
   "cell_type": "markdown",
   "id": "c3b24792",
   "metadata": {},
   "source": [
    "### Enregistrer la FAISS VectorDB dans un répertoire local"
   ]
  },
  {
   "cell_type": "markdown",
   "id": "e13ad07b",
   "metadata": {},
   "source": [
    "https://medium.com/@amrita.thakur/understanding-faiss-vector-store-and-its-advantages-cdc7b54afe47"
   ]
  },
  {
   "cell_type": "code",
   "execution_count": 62,
   "id": "3b35f454",
   "metadata": {},
   "outputs": [],
   "source": [
    "db_path = \"faiss_db\" \n",
    "\n",
    "# Si le répertoire de la FAISS VectorDB existe déjà, le supprimer pour pouvoir en recréer un nouveau\n",
    "if os.path.exists(db_path):\n",
    "    shutil.rmtree(db_path)\n"
   ]
  },
  {
   "cell_type": "code",
   "execution_count": 63,
   "id": "a46b5114",
   "metadata": {},
   "outputs": [],
   "source": [
    "# Enregistrement de la DB\n",
    "vectorstore.save_local(db_path)"
   ]
  },
  {
   "cell_type": "code",
   "execution_count": 65,
   "id": "fc55e285",
   "metadata": {},
   "outputs": [],
   "source": [
    "# Charger la FAISS VectorDB à partir d'un répertoire local\n",
    "# Pour le chargement de la VectorDB, utiliser le même modèle d'embeddings que celui utilisé pour sa création\n",
    "vector_store = FAISS.load_local(db_path, embedding_model, allow_dangerous_deserialization = True)\n"
   ]
  },
  {
   "cell_type": "markdown",
   "id": "3400cdaa",
   "metadata": {},
   "source": [
    "# Chroma DB"
   ]
  },
  {
   "cell_type": "markdown",
   "id": "2b13a5a2",
   "metadata": {},
   "source": [
    "version client éphémère : https://docs.trychroma.com/docs/overview/getting-started\n",
    "It starts a Chroma server in-memory, so any data you ingest will be lost when your program terminates. \n",
    "\n",
    "version client persistant : https://docs.trychroma.com/docs/run-chroma/persistent-client\n",
    "You can configure Chroma to save and load the database from your local machine, using the PersistentClient."
   ]
  },
  {
   "cell_type": "markdown",
   "id": "9a099423",
   "metadata": {},
   "source": [
    "https://python.langchain.com/docs/integrations/vectorstores/chroma/"
   ]
  },
  {
   "cell_type": "code",
   "execution_count": 72,
   "id": "7da21d31",
   "metadata": {},
   "outputs": [],
   "source": [
    "chroma_db_path = \"chroma_db\""
   ]
  },
  {
   "cell_type": "code",
   "execution_count": 73,
   "id": "a7bbcaaa",
   "metadata": {},
   "outputs": [],
   "source": [
    "chroma_db = Chroma.from_documents(\n",
    "    documents, \n",
    "    embedding_model, \n",
    "    persist_directory = chroma_db_path)"
   ]
  },
  {
   "cell_type": "code",
   "execution_count": 74,
   "id": "5e87d442",
   "metadata": {},
   "outputs": [
    {
     "name": "stderr",
     "output_type": "stream",
     "text": [
      "/usr/local/lib/python3.11/site-packages/torch/nn/modules/module.py:1762: FutureWarning: `encoder_attention_mask` is deprecated and will be removed in version 4.55.0 for `BertSdpaSelfAttention.forward`.\n",
      "  return forward_call(*args, **kwargs)\n"
     ]
    }
   ],
   "source": [
    "# Test de recherche\n",
    "query = \"Qui est Napoléon ?\"\n",
    "\n",
    "# Récupère les chunks les plus pertinents associés à la requête\n",
    "# Exemple avec une recherche basée sur un score de similarité\n",
    "retriever = chroma_db.as_retriever(\n",
    "    search_type = \"similarity_score_threshold\",\n",
    "    search_kwargs = {\"k\": 3, \"score_threshold\": 0.2},\n",
    ")\n",
    "\n",
    "relevant_docs = retriever.invoke(query)"
   ]
  },
  {
   "cell_type": "code",
   "execution_count": 75,
   "id": "8380d8c0",
   "metadata": {},
   "outputs": [
    {
     "data": {
      "text/plain": [
       "[Document(id='0ad561de-e278-4f51-9e9a-4874279d9dae', metadata={'chunk_id': 23}, page_content='autre gouvernement est mis en place.  \\n \\n*Il sera renversé par Napoléon le 18 brumaire.   \\n \\n  *Constitution : texte qui précise comment un pays est dirigé.\\n21) Le Consulat et l’Empire (1799-1815) \\n \\n*Le général Bonaparte remporte de nombreuses victoires \\nmilitaires, comme Austerlitz.  \\n \\n*Il  adopte une nouvelle constitution qui lui donne tous les \\npouvoirs.  \\n \\n*Il crée les départements dirigés par un préfet, la banque de France, \\nles lycées…'),\n",
       " Document(id='70d38bf3-3470-4a46-a1b6-1d4e9e5639d3', metadata={'chunk_id': 23}, page_content='autre gouvernement est mis en place.  \\n \\n*Il sera renversé par Napoléon le 18 brumaire.   \\n \\n  *Constitution : texte qui précise comment un pays est dirigé.\\n21) Le Consulat et l’Empire (1799-1815) \\n \\n*Le général Bonaparte remporte de nombreuses victoires \\nmilitaires, comme Austerlitz.  \\n \\n*Il  adopte une nouvelle constitution qui lui donne tous les \\npouvoirs.  \\n \\n*Il crée les départements dirigés par un préfet, la banque de France, \\nles lycées…'),\n",
       " Document(id='b31c6335-1b00-4175-9885-4c8d26874235', metadata={'chunk_id': 25}, page_content='*Napoléon perd la bataille de Waterloo contre les Anglais et abdique \\ndéfinitivement en 1815.    \\n \\n*Abdiquer : renoncer au pouvoir\\n22) Les apports de la Révolution et de l’Empire \\n \\n\\uf0b7 La Révolution et l’Empire ont permis de créer une \\nadministration efficace.  \\n \\n\\uf0b7 Les Français sont des citoyens avec des droits et des devoirs.  \\n \\n\\uf0b7 Les lois sont réunies dans le code civil  et les juges deviennent \\nindépendants.  \\n \\n\\uf0b7 Chacun est libre de choisir sa religion.')]"
      ]
     },
     "execution_count": 75,
     "metadata": {},
     "output_type": "execute_result"
    }
   ],
   "source": [
    "# le retriever retourne une liste de documents\n",
    "relevant_docs"
   ]
  },
  {
   "cell_type": "code",
   "execution_count": 76,
   "id": "7bb227ea",
   "metadata": {},
   "outputs": [
    {
     "name": "stdout",
     "output_type": "stream",
     "text": [
      "Nombre de chunks pertinents : 3\n",
      "\n",
      "--- Documents les plus pertinents ---\n",
      "Document 1:\n",
      "autre gouvernement est mis en place.  \n",
      " \n",
      "*Il sera renversé par Napoléon le 18 brumaire.   \n",
      " \n",
      "  *Constitution : texte qui précise comment un pays est dirigé.\n",
      "21) Le Consulat et l’Empire (1799-1815) \n",
      " \n",
      "*Le général Bonaparte remporte de nombreuses victoires \n",
      "militaires, comme Austerlitz.  \n",
      " \n",
      "*Il  adopte une nouvelle constitution qui lui donne tous les \n",
      "pouvoirs.  \n",
      " \n",
      "*Il crée les départements dirigés par un préfet, la banque de France, \n",
      "les lycées…\n",
      "\n",
      "chunk_id : 23\n",
      "\n",
      "Document 2:\n",
      "autre gouvernement est mis en place.  \n",
      " \n",
      "*Il sera renversé par Napoléon le 18 brumaire.   \n",
      " \n",
      "  *Constitution : texte qui précise comment un pays est dirigé.\n",
      "21) Le Consulat et l’Empire (1799-1815) \n",
      " \n",
      "*Le général Bonaparte remporte de nombreuses victoires \n",
      "militaires, comme Austerlitz.  \n",
      " \n",
      "*Il  adopte une nouvelle constitution qui lui donne tous les \n",
      "pouvoirs.  \n",
      " \n",
      "*Il crée les départements dirigés par un préfet, la banque de France, \n",
      "les lycées…\n",
      "\n",
      "chunk_id : 23\n",
      "\n",
      "Document 3:\n",
      "*Napoléon perd la bataille de Waterloo contre les Anglais et abdique \n",
      "définitivement en 1815.    \n",
      " \n",
      "*Abdiquer : renoncer au pouvoir\n",
      "22) Les apports de la Révolution et de l’Empire \n",
      " \n",
      " La Révolution et l’Empire ont permis de créer une \n",
      "administration efficace.  \n",
      " \n",
      " Les Français sont des citoyens avec des droits et des devoirs.  \n",
      " \n",
      " Les lois sont réunies dans le code civil  et les juges deviennent \n",
      "indépendants.  \n",
      " \n",
      " Chacun est libre de choisir sa religion.\n",
      "\n",
      "chunk_id : 25\n",
      "\n"
     ]
    }
   ],
   "source": [
    "print(\"Nombre de chunks pertinents :\", len(relevant_docs))\n",
    "    \n",
    "# Affiche les résultats pertinents avec les métadonnées associées\n",
    "print(\"\\n--- Documents les plus pertinents ---\")\n",
    "for i, doc in enumerate(relevant_docs, 1):\n",
    "    print(f\"Document {i}:\\n{doc.page_content}\\n\")\n",
    "    if doc.metadata:\n",
    "        print(f\"chunk_id : {doc.metadata.get('chunk_id')}\\n\")"
   ]
  }
 ],
 "metadata": {
  "kernelspec": {
   "display_name": "Python 3",
   "language": "python",
   "name": "python3"
  },
  "language_info": {
   "codemirror_mode": {
    "name": "ipython",
    "version": 3
   },
   "file_extension": ".py",
   "mimetype": "text/x-python",
   "name": "python",
   "nbconvert_exporter": "python",
   "pygments_lexer": "ipython3",
   "version": "3.11.13"
  }
 },
 "nbformat": 4,
 "nbformat_minor": 5
}
