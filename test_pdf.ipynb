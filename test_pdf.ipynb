{
 "cells": [
  {
   "cell_type": "markdown",
   "id": "a3dea90d",
   "metadata": {},
   "source": [
    "# Test to fecth pdf with py"
   ]
  },
  {
   "cell_type": "code",
   "execution_count": null,
   "id": "6e538283",
   "metadata": {
    "vscode": {
     "languageId": "plaintext"
    }
   },
   "outputs": [],
   "source": []
  }
 ],
 "metadata": {
  "language_info": {
   "name": "python"
  }
 },
 "nbformat": 4,
 "nbformat_minor": 5
}
